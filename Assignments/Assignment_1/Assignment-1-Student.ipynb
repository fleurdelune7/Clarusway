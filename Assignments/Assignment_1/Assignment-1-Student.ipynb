{
  "cells": [
    {
      "cell_type": "markdown",
      "metadata": {
        "id": "JosfxHTKNX50"
      },
      "source": [
        "___\n",
        "\n",
        "<p style=\"text-align: center;\"><img src=\"https://docs.google.com/uc?id=1lY0Uj5R04yMY3-ZppPWxqCr5pvBLYPnV\" class=\"img-fluid\" alt=\"Rossum\"></p>"
      ]
    },
    {
      "cell_type": "markdown",
      "metadata": {
        "id": "ezZDPZz-NX54"
      },
      "source": [
        "In this assignment you will start off with Numpy Exercises and then complete the whole Exercise with Pandas questions. All the subjects related to questions here already covered in preclass materials and in-class sessions. So good luck!\n"
      ]
    },
    {
      "cell_type": "markdown",
      "metadata": {
        "id": "L0oRUS3gNX55"
      },
      "source": [
        "#### 1. Import NumPy Library"
      ]
    },
    {
      "cell_type": "code",
      "execution_count": null,
      "metadata": {
        "id": "tJuxgxGoNX55"
      },
      "outputs": [],
      "source": [
        "import numpy as np "
      ]
    },
    {
      "cell_type": "markdown",
      "metadata": {
        "id": "06V3vkV8NX56"
      },
      "source": [
        "#### 2. Create an array from my_list=[5,10,15,20,25]"
      ]
    },
    {
      "cell_type": "code",
      "execution_count": null,
      "metadata": {
        "id": "ckcQw9g-NX57",
        "outputId": "266a3639-1f04-4b80-ea31-fcce24039aaf",
        "colab": {
          "base_uri": "https://localhost:8080/"
        }
      },
      "outputs": [
        {
          "output_type": "execute_result",
          "data": {
            "text/plain": [
              "array([ 5, 10, 15, 20, 25])"
            ]
          },
          "metadata": {},
          "execution_count": 22
        }
      ],
      "source": [
        "my_list=[5,10,15,20,25]\n",
        "arr = np.array(my_list)\n",
        "arr"
      ]
    },
    {
      "cell_type": "markdown",
      "metadata": {
        "id": "LhzMBNPfNX58"
      },
      "source": [
        "#### 3. Generate an array 5x5 zeros "
      ]
    },
    {
      "cell_type": "code",
      "execution_count": null,
      "metadata": {
        "id": "rBaN00CgNX58",
        "outputId": "bd0ecde9-4f07-4eb9-8772-568c9e0f1f95",
        "colab": {
          "base_uri": "https://localhost:8080/"
        }
      },
      "outputs": [
        {
          "output_type": "execute_result",
          "data": {
            "text/plain": [
              "array([[0., 0., 0., 0., 0.],\n",
              "       [0., 0., 0., 0., 0.],\n",
              "       [0., 0., 0., 0., 0.],\n",
              "       [0., 0., 0., 0., 0.],\n",
              "       [0., 0., 0., 0., 0.]])"
            ]
          },
          "metadata": {},
          "execution_count": 23
        }
      ],
      "source": [
        "np.zeros([5,5])"
      ]
    },
    {
      "cell_type": "markdown",
      "metadata": {
        "id": "Jj7xbW-pNX59"
      },
      "source": [
        "#### 4. Generate an array 4x4 ones assign data type int"
      ]
    },
    {
      "cell_type": "code",
      "execution_count": null,
      "metadata": {
        "id": "097WrqEyNX59",
        "outputId": "7b2e04f6-2f1e-49a2-b9c4-e468ea46c2a6",
        "colab": {
          "base_uri": "https://localhost:8080/"
        }
      },
      "outputs": [
        {
          "output_type": "execute_result",
          "data": {
            "text/plain": [
              "array([[1., 1., 1., 1.],\n",
              "       [1., 1., 1., 1.],\n",
              "       [1., 1., 1., 1.],\n",
              "       [1., 1., 1., 1.]])"
            ]
          },
          "metadata": {},
          "execution_count": 24
        }
      ],
      "source": [
        "np.ones([4,4])"
      ]
    },
    {
      "cell_type": "markdown",
      "metadata": {
        "id": "PuTSr-MXNX5-"
      },
      "source": [
        "#### 5. Make all the values of the array above 7"
      ]
    },
    {
      "cell_type": "code",
      "execution_count": null,
      "metadata": {
        "id": "KcuCTzuyNX5-",
        "outputId": "b92ed3c4-00e5-4630-9889-7fb149dc4758",
        "colab": {
          "base_uri": "https://localhost:8080/"
        }
      },
      "outputs": [
        {
          "output_type": "execute_result",
          "data": {
            "text/plain": [
              "array([[7, 7, 7, 7],\n",
              "       [7, 7, 7, 7],\n",
              "       [7, 7, 7, 7],\n",
              "       [7, 7, 7, 7]])"
            ]
          },
          "metadata": {},
          "execution_count": 25
        }
      ],
      "source": [
        "np.ones((4,4),dtype='int')*7"
      ]
    },
    {
      "cell_type": "markdown",
      "metadata": {
        "id": "elcDntYGNX5_"
      },
      "source": [
        "#### 6. Create same array above with full method"
      ]
    },
    {
      "cell_type": "code",
      "execution_count": null,
      "metadata": {
        "id": "x6EuJZmANX5_",
        "outputId": "006ec284-c847-41db-f9df-73a84064bb03",
        "colab": {
          "base_uri": "https://localhost:8080/"
        }
      },
      "outputs": [
        {
          "output_type": "execute_result",
          "data": {
            "text/plain": [
              "array([[7, 7, 7, 7],\n",
              "       [7, 7, 7, 7],\n",
              "       [7, 7, 7, 7],\n",
              "       [7, 7, 7, 7]])"
            ]
          },
          "metadata": {},
          "execution_count": 26
        }
      ],
      "source": [
        "np.full([4,4],7)"
      ]
    },
    {
      "cell_type": "markdown",
      "metadata": {
        "id": "kOEQhPkeNX5_"
      },
      "source": [
        "#### 7. Create an array of even integers from 2 to 16 "
      ]
    },
    {
      "cell_type": "code",
      "execution_count": null,
      "metadata": {
        "id": "wuQOGsCkNX5_",
        "outputId": "8fdc954d-2a54-424d-e546-e5a88f7094f1",
        "colab": {
          "base_uri": "https://localhost:8080/"
        }
      },
      "outputs": [
        {
          "output_type": "execute_result",
          "data": {
            "text/plain": [
              "array([ 2,  4,  6,  8, 10, 12, 14, 16])"
            ]
          },
          "metadata": {},
          "execution_count": 27
        }
      ],
      "source": [
        "np.arange(2,17,2)"
      ]
    },
    {
      "cell_type": "markdown",
      "metadata": {
        "id": "W0wY35B5NX6A"
      },
      "source": [
        "#### 8. Create a 5x5 matrix with values between 0 to 25"
      ]
    },
    {
      "cell_type": "code",
      "execution_count": 38,
      "metadata": {
        "id": "IVOdU-3cNX6A",
        "outputId": "59eca939-00d7-4c22-d2e0-db448ca4fa9d",
        "colab": {
          "base_uri": "https://localhost:8080/"
        }
      },
      "outputs": [
        {
          "output_type": "execute_result",
          "data": {
            "text/plain": [
              "array([[ 0,  1,  2,  3,  4],\n",
              "       [ 5,  6,  7,  8,  9],\n",
              "       [10, 11, 12, 13, 14],\n",
              "       [15, 16, 17, 18, 19],\n",
              "       [20, 21, 22, 23, 24]])"
            ]
          },
          "metadata": {},
          "execution_count": 38
        }
      ],
      "source": [
        "np.arange(25).reshape(5,5)"
      ]
    },
    {
      "cell_type": "markdown",
      "metadata": {
        "id": "-MyKCVQINX6A"
      },
      "source": [
        "#### 9. Create a 5x5 matrix with values between 0 to 25 using linspace"
      ]
    },
    {
      "cell_type": "code",
      "execution_count": null,
      "metadata": {
        "id": "RZ7l-658NX6B",
        "outputId": "7bd6c47d-d41d-4ab9-ecdd-d7c6de139273",
        "colab": {
          "base_uri": "https://localhost:8080/"
        }
      },
      "outputs": [
        {
          "output_type": "execute_result",
          "data": {
            "text/plain": [
              "array([[ 0,  1,  2,  3,  4],\n",
              "       [ 5,  6,  7,  8,  9],\n",
              "       [10, 11, 12, 13, 14],\n",
              "       [15, 16, 17, 18, 19],\n",
              "       [20, 21, 22, 23, 24]])"
            ]
          },
          "metadata": {},
          "execution_count": 29
        }
      ],
      "source": [
        "np.linspace(0,24,25, dtype=\"int\").reshape(5,5)"
      ]
    },
    {
      "cell_type": "markdown",
      "metadata": {
        "id": "zTE2NHqwNX6B"
      },
      "source": [
        "#### 10. Create 5 random number with numpy"
      ]
    },
    {
      "cell_type": "code",
      "execution_count": null,
      "metadata": {
        "id": "pRiIpunlNX6B",
        "outputId": "ecc46a26-4b13-499c-82e1-4b65bf1ef132",
        "colab": {
          "base_uri": "https://localhost:8080/"
        }
      },
      "outputs": [
        {
          "output_type": "execute_result",
          "data": {
            "text/plain": [
              "array([0.71507799, 0.12817946, 0.82526995, 0.56512908, 0.50357352])"
            ]
          },
          "metadata": {},
          "execution_count": 30
        }
      ],
      "source": [
        "np.random.rand(5)"
      ]
    },
    {
      "cell_type": "markdown",
      "metadata": {
        "id": "2WVhXaMGNX6C"
      },
      "source": [
        "#### 11. Create random normal distributed 5x5 array"
      ]
    },
    {
      "cell_type": "code",
      "execution_count": null,
      "metadata": {
        "id": "V0riPKVdNX6C",
        "outputId": "79b8069c-2bc1-41ae-db1b-76df951d2a23",
        "colab": {
          "base_uri": "https://localhost:8080/"
        }
      },
      "outputs": [
        {
          "output_type": "execute_result",
          "data": {
            "text/plain": [
              "array([[-0.96182544, -0.7595247 , -1.33907709,  0.13527703,  1.61520547],\n",
              "       [ 0.70526738, -0.21378499,  0.0867292 ,  3.30708026, -0.53325049],\n",
              "       [ 2.10301809, -0.22238038, -0.98697518, -0.08754663, -1.1151851 ],\n",
              "       [ 2.01967663, -1.57859811,  0.02508712, -1.2620871 , -0.685515  ],\n",
              "       [ 0.49953879,  0.3730371 , -0.20302535, -0.26467419, -0.95240745]])"
            ]
          },
          "metadata": {},
          "execution_count": 31
        }
      ],
      "source": [
        "np.random.randn(25).reshape(5,5)"
      ]
    },
    {
      "cell_type": "markdown",
      "metadata": {
        "id": "bcrupGwrNX6D"
      },
      "source": [
        "#### 12. Create 3x4 shaped array with random int numbers between 20 and 50 with numpy"
      ]
    },
    {
      "cell_type": "code",
      "execution_count": null,
      "metadata": {
        "id": "b9JIfxRwNX6D",
        "outputId": "cb49bc4c-3dd5-49db-ccb2-cd74eae4ab18",
        "colab": {
          "base_uri": "https://localhost:8080/"
        }
      },
      "outputs": [
        {
          "output_type": "execute_result",
          "data": {
            "text/plain": [
              "array([[43, 24, 28, 35],\n",
              "       [41, 49, 27, 35],\n",
              "       [47, 22, 23, 21]])"
            ]
          },
          "metadata": {},
          "execution_count": 32
        }
      ],
      "source": [
        "np.random.randint(20,50,12).reshape(3,4)"
      ]
    },
    {
      "cell_type": "markdown",
      "metadata": {
        "id": "-yyRe39GNX6D"
      },
      "source": [
        "#### 13. Reshape the array below with shape 6x8"
      ]
    },
    {
      "cell_type": "code",
      "execution_count": null,
      "metadata": {
        "id": "tEjF4pwpNX6D"
      },
      "outputs": [],
      "source": [
        "ranarr = np.array([52, 48, 21, 29, 15, 35,  3, 29, 43, 48, 38,  8, 44,  2, 46, 27, 11, 29, 30, 26,  8, 49, 19,  2,  9, 38, 40, 36, 16, 41, 39, 17, 20, 42, 23, 35, 45, 18, 40,  9, 36, 37,  5, 17, 44, 36,  2, 52])"
      ]
    },
    {
      "cell_type": "code",
      "execution_count": null,
      "metadata": {
        "id": "kvcOix0QNX6D",
        "outputId": "02da3353-7efb-41d5-87f4-b06864ecafeb",
        "colab": {
          "base_uri": "https://localhost:8080/"
        }
      },
      "outputs": [
        {
          "output_type": "execute_result",
          "data": {
            "text/plain": [
              "array([52, 48, 21, 29, 15, 35,  3, 29, 43, 48, 38,  8, 44,  2, 46, 27, 11,\n",
              "       29, 30, 26,  8, 49, 19,  2,  9, 38, 40, 36, 16, 41, 39, 17, 20, 42,\n",
              "       23, 35, 45, 18, 40,  9, 36, 37,  5, 17, 44, 36,  2, 52])"
            ]
          },
          "metadata": {},
          "execution_count": 34
        }
      ],
      "source": [
        "ranarr"
      ]
    },
    {
      "cell_type": "code",
      "execution_count": null,
      "metadata": {
        "id": "l-SNZtvlNX6E",
        "outputId": "e2c1bea7-a3c0-4508-cfe7-02cef35f3d7c",
        "colab": {
          "base_uri": "https://localhost:8080/"
        }
      },
      "outputs": [
        {
          "output_type": "execute_result",
          "data": {
            "text/plain": [
              "array([[52, 48, 21, 29, 15, 35,  3, 29],\n",
              "       [43, 48, 38,  8, 44,  2, 46, 27],\n",
              "       [11, 29, 30, 26,  8, 49, 19,  2],\n",
              "       [ 9, 38, 40, 36, 16, 41, 39, 17],\n",
              "       [20, 42, 23, 35, 45, 18, 40,  9],\n",
              "       [36, 37,  5, 17, 44, 36,  2, 52]])"
            ]
          },
          "metadata": {},
          "execution_count": 35
        }
      ],
      "source": [
        "ranarr.reshape(6,8)"
      ]
    },
    {
      "cell_type": "code",
      "execution_count": null,
      "metadata": {
        "id": "CYDAeax3NX6E",
        "outputId": "3624840b-240a-4178-9c78-84183be43392",
        "colab": {
          "base_uri": "https://localhost:8080/"
        }
      },
      "outputs": [
        {
          "output_type": "execute_result",
          "data": {
            "text/plain": [
              "array([[52, 48, 21, 29, 15, 35,  3, 29],\n",
              "       [43, 48, 38,  8, 44,  2, 46, 27],\n",
              "       [11, 29, 30, 26,  8, 49, 19,  2],\n",
              "       [ 9, 38, 40, 36, 16, 41, 39, 17],\n",
              "       [20, 42, 23, 35, 45, 18, 40,  9],\n",
              "       [36, 37,  5, 17, 44, 36,  2, 52]])"
            ]
          },
          "metadata": {},
          "execution_count": 36
        }
      ],
      "source": [
        "#reshape with -1\n",
        "ranarr.reshape(-1,8)"
      ]
    },
    {
      "cell_type": "markdown",
      "metadata": {
        "id": "_mCQcLYkNX6E"
      },
      "source": [
        "## Numpy Indexing and Selection\n"
      ]
    },
    {
      "cell_type": "code",
      "source": [
        "mat=np.arange(1,17).reshape(4,4)\n",
        "mat"
      ],
      "metadata": {
        "id": "muqPmeCaPXvi",
        "colab": {
          "base_uri": "https://localhost:8080/"
        },
        "outputId": "d9ff84aa-fc6b-4bdf-a1e1-8ad714c5b370"
      },
      "execution_count": 40,
      "outputs": [
        {
          "output_type": "execute_result",
          "data": {
            "text/plain": [
              "array([[ 1,  2,  3,  4],\n",
              "       [ 5,  6,  7,  8],\n",
              "       [ 9, 10, 11, 12],\n",
              "       [13, 14, 15, 16]])"
            ]
          },
          "metadata": {},
          "execution_count": 40
        }
      ]
    },
    {
      "cell_type": "markdown",
      "metadata": {
        "id": "NXbiCrDLNX6E"
      },
      "source": [
        "## Create array below\n",
        "mat= np.arange(1,17).reshape(4,4)\n",
        "mat"
      ]
    },
    {
      "cell_type": "markdown",
      "metadata": {
        "id": "WMNb9u0fNX6E"
      },
      "source": [
        "#### 14. Write code that reproduces the output shown below.<br>"
      ]
    },
    {
      "cell_type": "code",
      "execution_count": 41,
      "metadata": {
        "id": "Ad3aUz3GNX6E",
        "outputId": "23d9e60f-6ede-4f69-e244-e8abe552d13b",
        "colab": {
          "base_uri": "https://localhost:8080/"
        }
      },
      "outputs": [
        {
          "output_type": "execute_result",
          "data": {
            "text/plain": [
              "array([[ 6,  7],\n",
              "       [10, 11]])"
            ]
          },
          "metadata": {},
          "execution_count": 41
        }
      ],
      "source": [
        "mat[1:3,1:3]"
      ]
    },
    {
      "cell_type": "markdown",
      "metadata": {
        "id": "XG-yg6KzNX6F"
      },
      "source": [
        "#### 15. Get the first column of the array."
      ]
    },
    {
      "cell_type": "code",
      "execution_count": 43,
      "metadata": {
        "id": "ccXGcTzRNX6F",
        "outputId": "5acee1ce-44b4-48f4-f121-77a5003b3a8f",
        "colab": {
          "base_uri": "https://localhost:8080/"
        }
      },
      "outputs": [
        {
          "output_type": "execute_result",
          "data": {
            "text/plain": [
              "array([ 1,  5,  9, 13])"
            ]
          },
          "metadata": {},
          "execution_count": 43
        }
      ],
      "source": [
        "mat[:,0]"
      ]
    },
    {
      "cell_type": "markdown",
      "metadata": {
        "id": "RsTbwdS4NX6F"
      },
      "source": [
        "#### 16. Get the values in 2nd row for every 2 step."
      ]
    },
    {
      "cell_type": "code",
      "execution_count": 44,
      "metadata": {
        "id": "lzak8C62NX6F",
        "outputId": "8a9928ce-12b2-4af2-8277-c5e81b75fb9a",
        "colab": {
          "base_uri": "https://localhost:8080/"
        }
      },
      "outputs": [
        {
          "output_type": "execute_result",
          "data": {
            "text/plain": [
              "array([5, 7])"
            ]
          },
          "metadata": {},
          "execution_count": 44
        }
      ],
      "source": [
        "mat[1,::2]"
      ]
    },
    {
      "cell_type": "markdown",
      "metadata": {
        "id": "xjpgbTOZNX6G"
      },
      "source": [
        "#### 17.Assign 77 to every cell in 3rd column."
      ]
    },
    {
      "cell_type": "code",
      "execution_count": 45,
      "metadata": {
        "id": "1abR0WaaNX6G"
      },
      "outputs": [],
      "source": [
        "mat[:,2] = 77"
      ]
    },
    {
      "cell_type": "code",
      "execution_count": 46,
      "metadata": {
        "id": "VwfllnWdNX6G",
        "outputId": "004ce96b-c6b5-427a-c370-b67434c57861",
        "colab": {
          "base_uri": "https://localhost:8080/"
        }
      },
      "outputs": [
        {
          "output_type": "execute_result",
          "data": {
            "text/plain": [
              "array([[ 1,  2, 77,  4],\n",
              "       [ 5,  6, 77,  8],\n",
              "       [ 9, 10, 77, 12],\n",
              "       [13, 14, 77, 16]])"
            ]
          },
          "metadata": {},
          "execution_count": 46
        }
      ],
      "source": [
        "mat"
      ]
    },
    {
      "cell_type": "markdown",
      "metadata": {
        "id": "grFYUgUNNX6G"
      },
      "source": [
        "#### 18. Take 2nd row 1st column, 4th row 2nd column."
      ]
    },
    {
      "cell_type": "code",
      "execution_count": 47,
      "metadata": {
        "id": "_78hSXKPNX6G",
        "outputId": "35d44074-c638-4519-fcc5-a66d8e36b3e0",
        "colab": {
          "base_uri": "https://localhost:8080/"
        }
      },
      "outputs": [
        {
          "output_type": "execute_result",
          "data": {
            "text/plain": [
              "array([ 5, 14])"
            ]
          },
          "metadata": {},
          "execution_count": 47
        }
      ],
      "source": [
        "mat[[1,3],[0,1]]"
      ]
    },
    {
      "cell_type": "markdown",
      "metadata": {
        "id": "98Rck81LNX6H"
      },
      "source": [
        "#### 19. Take between 2nd and last row with step 2 and between 1 and last column with step 2."
      ]
    },
    {
      "cell_type": "code",
      "execution_count": 48,
      "metadata": {
        "id": "ZZNLLi3QNX6H",
        "outputId": "0b013465-95c2-4bb2-8520-a8ec1a7939f8",
        "colab": {
          "base_uri": "https://localhost:8080/"
        }
      },
      "outputs": [
        {
          "output_type": "execute_result",
          "data": {
            "text/plain": [
              "array([[ 5, 77],\n",
              "       [13, 77]])"
            ]
          },
          "metadata": {},
          "execution_count": 48
        }
      ],
      "source": [
        "mat[1::2,::2]"
      ]
    },
    {
      "cell_type": "markdown",
      "metadata": {
        "id": "zdVmfxv3NX6H"
      },
      "source": [
        "## NumPy Operations"
      ]
    },
    {
      "cell_type": "markdown",
      "metadata": {
        "id": "KR90P0csNX6H"
      },
      "source": [
        "#### 20. Get the sum of values smaller than 10 and values bigger than 12 from array above "
      ]
    },
    {
      "cell_type": "code",
      "execution_count": 49,
      "metadata": {
        "id": "gLpu-RoRNX6H",
        "outputId": "66047624-dcac-476b-b903-411686d4f5c5",
        "colab": {
          "base_uri": "https://localhost:8080/"
        }
      },
      "outputs": [
        {
          "output_type": "execute_result",
          "data": {
            "text/plain": [
              "array([[ 1,  2, 77,  4],\n",
              "       [ 5,  6, 77,  8],\n",
              "       [ 9, 10, 77, 12],\n",
              "       [13, 14, 77, 16]])"
            ]
          },
          "metadata": {},
          "execution_count": 49
        }
      ],
      "source": [
        "mat"
      ]
    },
    {
      "cell_type": "code",
      "execution_count": 50,
      "metadata": {
        "id": "hpiz2k3UNX6I",
        "outputId": "654903b5-285d-4e5d-bf9f-729a1a47e2df",
        "colab": {
          "base_uri": "https://localhost:8080/"
        }
      },
      "outputs": [
        {
          "output_type": "execute_result",
          "data": {
            "text/plain": [
              "array([1, 2, 4, 5, 6, 8, 9])"
            ]
          },
          "metadata": {},
          "execution_count": 50
        }
      ],
      "source": [
        "mat[mat<10]"
      ]
    },
    {
      "cell_type": "code",
      "execution_count": 51,
      "metadata": {
        "id": "KTkQIioINX6J",
        "outputId": "c33198bf-5da0-44b2-b927-eb3a7bb36257",
        "colab": {
          "base_uri": "https://localhost:8080/"
        }
      },
      "outputs": [
        {
          "output_type": "execute_result",
          "data": {
            "text/plain": [
              "array([77, 77, 77, 13, 14, 77, 16])"
            ]
          },
          "metadata": {},
          "execution_count": 51
        }
      ],
      "source": [
        "mat[mat>12]"
      ]
    },
    {
      "cell_type": "code",
      "execution_count": 52,
      "metadata": {
        "id": "UqKgAg1JNX6J",
        "outputId": "1654ce42-45b2-4d4a-e999-7cbe0654f052",
        "colab": {
          "base_uri": "https://localhost:8080/"
        }
      },
      "outputs": [
        {
          "output_type": "execute_result",
          "data": {
            "text/plain": [
              "array([78, 79, 81, 18, 20, 85, 25])"
            ]
          },
          "metadata": {},
          "execution_count": 52
        }
      ],
      "source": [
        "mat[mat<10]+mat[mat>12]"
      ]
    },
    {
      "cell_type": "markdown",
      "metadata": {
        "id": "RqUUYQSlNX6K"
      },
      "source": [
        "#### 21. Get the standard deviation of the result above"
      ]
    },
    {
      "cell_type": "code",
      "execution_count": 53,
      "metadata": {
        "id": "dwbo68mSNX6K",
        "outputId": "0cff9ebf-33a7-4c33-89c6-79820257a3e6",
        "colab": {
          "base_uri": "https://localhost:8080/"
        }
      },
      "outputs": [
        {
          "output_type": "execute_result",
          "data": {
            "text/plain": [
              "29.700546274093877"
            ]
          },
          "metadata": {},
          "execution_count": 53
        }
      ],
      "source": [
        "(mat[mat<10]+mat[mat>12]).std()"
      ]
    },
    {
      "cell_type": "markdown",
      "metadata": {
        "id": "pNBoS6MKNX6K"
      },
      "source": [
        "#### 22. Get the sum of second column from array above"
      ]
    },
    {
      "cell_type": "code",
      "execution_count": 54,
      "metadata": {
        "id": "wGe1izqeNX6K",
        "outputId": "1de855e3-e6cf-42da-8fad-4dad4b4abd63",
        "colab": {
          "base_uri": "https://localhost:8080/"
        }
      },
      "outputs": [
        {
          "output_type": "execute_result",
          "data": {
            "text/plain": [
              "array([[ 1,  2, 77,  4],\n",
              "       [ 5,  6, 77,  8],\n",
              "       [ 9, 10, 77, 12],\n",
              "       [13, 14, 77, 16]])"
            ]
          },
          "metadata": {},
          "execution_count": 54
        }
      ],
      "source": [
        "mat"
      ]
    },
    {
      "cell_type": "code",
      "execution_count": 55,
      "metadata": {
        "id": "xlndcUGbNX6K"
      },
      "outputs": [],
      "source": [
        "mat[:,2]=[3,7,11,15]"
      ]
    },
    {
      "cell_type": "code",
      "execution_count": 56,
      "metadata": {
        "id": "N6yu9cU8NX6N",
        "outputId": "58dbe784-5dae-4faa-8f75-56f1edaf2825",
        "colab": {
          "base_uri": "https://localhost:8080/"
        }
      },
      "outputs": [
        {
          "output_type": "execute_result",
          "data": {
            "text/plain": [
              "array([[ 1,  2,  3,  4],\n",
              "       [ 5,  6,  7,  8],\n",
              "       [ 9, 10, 11, 12],\n",
              "       [13, 14, 15, 16]])"
            ]
          },
          "metadata": {},
          "execution_count": 56
        }
      ],
      "source": [
        "#print array here\n",
        "mat"
      ]
    },
    {
      "cell_type": "code",
      "execution_count": 57,
      "metadata": {
        "id": "eLsvbjyiNX6N",
        "outputId": "b35c69d1-5f1a-4af6-d384-9b9bfe22edad",
        "colab": {
          "base_uri": "https://localhost:8080/"
        }
      },
      "outputs": [
        {
          "output_type": "execute_result",
          "data": {
            "text/plain": [
              "32"
            ]
          },
          "metadata": {},
          "execution_count": 57
        }
      ],
      "source": [
        "mat[:,1].sum(axis=0)"
      ]
    },
    {
      "cell_type": "markdown",
      "metadata": {
        "id": "wLAnXMJrNX6O"
      },
      "source": [
        "#### 23. Get the median,mean and std of 3rd row from array above"
      ]
    },
    {
      "cell_type": "code",
      "execution_count": 58,
      "metadata": {
        "id": "VXi8Q_P9NX6O",
        "outputId": "fe685110-e76a-47b8-ffdb-e6f7e72d9ec0",
        "colab": {
          "base_uri": "https://localhost:8080/"
        }
      },
      "outputs": [
        {
          "output_type": "execute_result",
          "data": {
            "text/plain": [
              "array([[ 1,  2,  3,  4],\n",
              "       [ 5,  6,  7,  8],\n",
              "       [ 9, 10, 11, 12],\n",
              "       [13, 14, 15, 16]])"
            ]
          },
          "metadata": {},
          "execution_count": 58
        }
      ],
      "source": [
        "mat"
      ]
    },
    {
      "cell_type": "code",
      "execution_count": 59,
      "metadata": {
        "id": "7VD7Q2loNX6O",
        "outputId": "93ed4ad2-8e93-4395-a369-909691ec566c",
        "colab": {
          "base_uri": "https://localhost:8080/"
        }
      },
      "outputs": [
        {
          "output_type": "execute_result",
          "data": {
            "text/plain": [
              "array([ 9, 10, 11, 12])"
            ]
          },
          "metadata": {},
          "execution_count": 59
        }
      ],
      "source": [
        "mat[2]"
      ]
    },
    {
      "cell_type": "code",
      "execution_count": 60,
      "metadata": {
        "id": "NQVZvRMUNX6O",
        "outputId": "74c76c0e-8cd0-494b-cbe3-3008a2722042",
        "colab": {
          "base_uri": "https://localhost:8080/"
        }
      },
      "outputs": [
        {
          "output_type": "execute_result",
          "data": {
            "text/plain": [
              "10.5"
            ]
          },
          "metadata": {},
          "execution_count": 60
        }
      ],
      "source": [
        "#median\n",
        "np.median(mat[2])"
      ]
    },
    {
      "cell_type": "code",
      "execution_count": 61,
      "metadata": {
        "id": "cABzm1o1NX6P",
        "outputId": "6b42f669-d14e-4b8a-ad69-df38e620cdc5",
        "colab": {
          "base_uri": "https://localhost:8080/"
        }
      },
      "outputs": [
        {
          "output_type": "execute_result",
          "data": {
            "text/plain": [
              "10.5"
            ]
          },
          "metadata": {},
          "execution_count": 61
        }
      ],
      "source": [
        "#mean\n",
        "np.mean(mat[2])"
      ]
    },
    {
      "cell_type": "code",
      "execution_count": 62,
      "metadata": {
        "id": "B6_9CGjgNX6P",
        "outputId": "8794b428-5ed0-4e28-ded4-f58761235e0a",
        "colab": {
          "base_uri": "https://localhost:8080/"
        }
      },
      "outputs": [
        {
          "output_type": "execute_result",
          "data": {
            "text/plain": [
              "1.118033988749895"
            ]
          },
          "metadata": {},
          "execution_count": 62
        }
      ],
      "source": [
        "#std\n",
        "np.std(mat[2])"
      ]
    },
    {
      "cell_type": "markdown",
      "metadata": {
        "collapsed": true,
        "id": "A4dBuXyyNX6P"
      },
      "source": [
        "# Pandas Section"
      ]
    },
    {
      "cell_type": "code",
      "execution_count": 63,
      "metadata": {
        "id": "_zDt8l4WNX6P"
      },
      "outputs": [],
      "source": [
        "import pandas as pd"
      ]
    },
    {
      "cell_type": "markdown",
      "metadata": {
        "id": "Ks5VXsDONX6Q"
      },
      "source": [
        "**Read Salaries.csv take a look at first 5 rows, df info and df statistical measurements**"
      ]
    },
    {
      "cell_type": "code",
      "execution_count": 66,
      "metadata": {
        "id": "4YGbaiBBNX6Q"
      },
      "outputs": [],
      "source": [
        "salary=pd.read_csv('Salaries.csv')"
      ]
    },
    {
      "cell_type": "code",
      "execution_count": 67,
      "metadata": {
        "id": "bctA1ximNX6Q",
        "outputId": "fc48cc77-3296-443d-e655-66ccfe518195",
        "colab": {
          "base_uri": "https://localhost:8080/",
          "height": 206
        }
      },
      "outputs": [
        {
          "output_type": "execute_result",
          "data": {
            "text/html": [
              "\n",
              "  <div id=\"df-6acee745-ee09-469d-8375-8a1c925af5d5\">\n",
              "    <div class=\"colab-df-container\">\n",
              "      <div>\n",
              "<style scoped>\n",
              "    .dataframe tbody tr th:only-of-type {\n",
              "        vertical-align: middle;\n",
              "    }\n",
              "\n",
              "    .dataframe tbody tr th {\n",
              "        vertical-align: top;\n",
              "    }\n",
              "\n",
              "    .dataframe thead th {\n",
              "        text-align: right;\n",
              "    }\n",
              "</style>\n",
              "<table border=\"1\" class=\"dataframe\">\n",
              "  <thead>\n",
              "    <tr style=\"text-align: right;\">\n",
              "      <th></th>\n",
              "      <th>Id</th>\n",
              "      <th>EmployeeName</th>\n",
              "      <th>JobTitle</th>\n",
              "      <th>BasePay</th>\n",
              "      <th>OvertimePay</th>\n",
              "      <th>OtherPay</th>\n",
              "      <th>Benefits</th>\n",
              "      <th>TotalPay</th>\n",
              "      <th>TotalPayBenefits</th>\n",
              "      <th>Year</th>\n",
              "      <th>Notes</th>\n",
              "      <th>Agency</th>\n",
              "      <th>Status</th>\n",
              "    </tr>\n",
              "  </thead>\n",
              "  <tbody>\n",
              "    <tr>\n",
              "      <th>0</th>\n",
              "      <td>1</td>\n",
              "      <td>NATHANIEL FORD</td>\n",
              "      <td>GENERAL MANAGER-METROPOLITAN TRANSIT AUTHORITY</td>\n",
              "      <td>167411.18</td>\n",
              "      <td>0.00</td>\n",
              "      <td>400184.25</td>\n",
              "      <td>NaN</td>\n",
              "      <td>567595.43</td>\n",
              "      <td>567595.43</td>\n",
              "      <td>2011.0</td>\n",
              "      <td>NaN</td>\n",
              "      <td>San Francisco</td>\n",
              "      <td>NaN</td>\n",
              "    </tr>\n",
              "    <tr>\n",
              "      <th>1</th>\n",
              "      <td>2</td>\n",
              "      <td>GARY JIMENEZ</td>\n",
              "      <td>CAPTAIN III (POLICE DEPARTMENT)</td>\n",
              "      <td>155966.02</td>\n",
              "      <td>245131.88</td>\n",
              "      <td>137811.38</td>\n",
              "      <td>NaN</td>\n",
              "      <td>538909.28</td>\n",
              "      <td>538909.28</td>\n",
              "      <td>2011.0</td>\n",
              "      <td>NaN</td>\n",
              "      <td>San Francisco</td>\n",
              "      <td>NaN</td>\n",
              "    </tr>\n",
              "    <tr>\n",
              "      <th>2</th>\n",
              "      <td>3</td>\n",
              "      <td>ALBERT PARDINI</td>\n",
              "      <td>CAPTAIN III (POLICE DEPARTMENT)</td>\n",
              "      <td>212739.13</td>\n",
              "      <td>106088.18</td>\n",
              "      <td>16452.60</td>\n",
              "      <td>NaN</td>\n",
              "      <td>335279.91</td>\n",
              "      <td>335279.91</td>\n",
              "      <td>2011.0</td>\n",
              "      <td>NaN</td>\n",
              "      <td>San Francisco</td>\n",
              "      <td>NaN</td>\n",
              "    </tr>\n",
              "    <tr>\n",
              "      <th>3</th>\n",
              "      <td>4</td>\n",
              "      <td>CHRISTOPHER CHONG</td>\n",
              "      <td>WIRE ROPE CABLE MAINTENANCE MECHANIC</td>\n",
              "      <td>77916.00</td>\n",
              "      <td>56120.71</td>\n",
              "      <td>198306.90</td>\n",
              "      <td>NaN</td>\n",
              "      <td>332343.61</td>\n",
              "      <td>332343.61</td>\n",
              "      <td>2011.0</td>\n",
              "      <td>NaN</td>\n",
              "      <td>San Francisco</td>\n",
              "      <td>NaN</td>\n",
              "    </tr>\n",
              "    <tr>\n",
              "      <th>4</th>\n",
              "      <td>5</td>\n",
              "      <td>PATRICK GARDNER</td>\n",
              "      <td>DEPUTY CHIEF OF DEPARTMENT,(FIRE DEPARTMENT)</td>\n",
              "      <td>134401.60</td>\n",
              "      <td>9737.00</td>\n",
              "      <td>182234.59</td>\n",
              "      <td>NaN</td>\n",
              "      <td>326373.19</td>\n",
              "      <td>326373.19</td>\n",
              "      <td>2011.0</td>\n",
              "      <td>NaN</td>\n",
              "      <td>San Francisco</td>\n",
              "      <td>NaN</td>\n",
              "    </tr>\n",
              "  </tbody>\n",
              "</table>\n",
              "</div>\n",
              "      <button class=\"colab-df-convert\" onclick=\"convertToInteractive('df-6acee745-ee09-469d-8375-8a1c925af5d5')\"\n",
              "              title=\"Convert this dataframe to an interactive table.\"\n",
              "              style=\"display:none;\">\n",
              "        \n",
              "  <svg xmlns=\"http://www.w3.org/2000/svg\" height=\"24px\"viewBox=\"0 0 24 24\"\n",
              "       width=\"24px\">\n",
              "    <path d=\"M0 0h24v24H0V0z\" fill=\"none\"/>\n",
              "    <path d=\"M18.56 5.44l.94 2.06.94-2.06 2.06-.94-2.06-.94-.94-2.06-.94 2.06-2.06.94zm-11 1L8.5 8.5l.94-2.06 2.06-.94-2.06-.94L8.5 2.5l-.94 2.06-2.06.94zm10 10l.94 2.06.94-2.06 2.06-.94-2.06-.94-.94-2.06-.94 2.06-2.06.94z\"/><path d=\"M17.41 7.96l-1.37-1.37c-.4-.4-.92-.59-1.43-.59-.52 0-1.04.2-1.43.59L10.3 9.45l-7.72 7.72c-.78.78-.78 2.05 0 2.83L4 21.41c.39.39.9.59 1.41.59.51 0 1.02-.2 1.41-.59l7.78-7.78 2.81-2.81c.8-.78.8-2.07 0-2.86zM5.41 20L4 18.59l7.72-7.72 1.47 1.35L5.41 20z\"/>\n",
              "  </svg>\n",
              "      </button>\n",
              "      \n",
              "  <style>\n",
              "    .colab-df-container {\n",
              "      display:flex;\n",
              "      flex-wrap:wrap;\n",
              "      gap: 12px;\n",
              "    }\n",
              "\n",
              "    .colab-df-convert {\n",
              "      background-color: #E8F0FE;\n",
              "      border: none;\n",
              "      border-radius: 50%;\n",
              "      cursor: pointer;\n",
              "      display: none;\n",
              "      fill: #1967D2;\n",
              "      height: 32px;\n",
              "      padding: 0 0 0 0;\n",
              "      width: 32px;\n",
              "    }\n",
              "\n",
              "    .colab-df-convert:hover {\n",
              "      background-color: #E2EBFA;\n",
              "      box-shadow: 0px 1px 2px rgba(60, 64, 67, 0.3), 0px 1px 3px 1px rgba(60, 64, 67, 0.15);\n",
              "      fill: #174EA6;\n",
              "    }\n",
              "\n",
              "    [theme=dark] .colab-df-convert {\n",
              "      background-color: #3B4455;\n",
              "      fill: #D2E3FC;\n",
              "    }\n",
              "\n",
              "    [theme=dark] .colab-df-convert:hover {\n",
              "      background-color: #434B5C;\n",
              "      box-shadow: 0px 1px 3px 1px rgba(0, 0, 0, 0.15);\n",
              "      filter: drop-shadow(0px 1px 2px rgba(0, 0, 0, 0.3));\n",
              "      fill: #FFFFFF;\n",
              "    }\n",
              "  </style>\n",
              "\n",
              "      <script>\n",
              "        const buttonEl =\n",
              "          document.querySelector('#df-6acee745-ee09-469d-8375-8a1c925af5d5 button.colab-df-convert');\n",
              "        buttonEl.style.display =\n",
              "          google.colab.kernel.accessAllowed ? 'block' : 'none';\n",
              "\n",
              "        async function convertToInteractive(key) {\n",
              "          const element = document.querySelector('#df-6acee745-ee09-469d-8375-8a1c925af5d5');\n",
              "          const dataTable =\n",
              "            await google.colab.kernel.invokeFunction('convertToInteractive',\n",
              "                                                     [key], {});\n",
              "          if (!dataTable) return;\n",
              "\n",
              "          const docLinkHtml = 'Like what you see? Visit the ' +\n",
              "            '<a target=\"_blank\" href=https://colab.research.google.com/notebooks/data_table.ipynb>data table notebook</a>'\n",
              "            + ' to learn more about interactive tables.';\n",
              "          element.innerHTML = '';\n",
              "          dataTable['output_type'] = 'display_data';\n",
              "          await google.colab.output.renderOutput(dataTable, element);\n",
              "          const docLink = document.createElement('div');\n",
              "          docLink.innerHTML = docLinkHtml;\n",
              "          element.appendChild(docLink);\n",
              "        }\n",
              "      </script>\n",
              "    </div>\n",
              "  </div>\n",
              "  "
            ],
            "text/plain": [
              "   Id       EmployeeName  ...         Agency  Status\n",
              "0   1     NATHANIEL FORD  ...  San Francisco     NaN\n",
              "1   2       GARY JIMENEZ  ...  San Francisco     NaN\n",
              "2   3     ALBERT PARDINI  ...  San Francisco     NaN\n",
              "3   4  CHRISTOPHER CHONG  ...  San Francisco     NaN\n",
              "4   5    PATRICK GARDNER  ...  San Francisco     NaN\n",
              "\n",
              "[5 rows x 13 columns]"
            ]
          },
          "metadata": {},
          "execution_count": 67
        }
      ],
      "source": [
        "salary.head()"
      ]
    },
    {
      "cell_type": "code",
      "execution_count": 68,
      "metadata": {
        "id": "jznRBtwZNX6Q",
        "outputId": "885f996b-cbef-4b67-ef3d-a07b6ca4ee4c",
        "colab": {
          "base_uri": "https://localhost:8080/"
        }
      },
      "outputs": [
        {
          "output_type": "stream",
          "name": "stdout",
          "text": [
            "<class 'pandas.core.frame.DataFrame'>\n",
            "RangeIndex: 78778 entries, 0 to 78777\n",
            "Data columns (total 13 columns):\n",
            " #   Column            Non-Null Count  Dtype  \n",
            "---  ------            --------------  -----  \n",
            " 0   Id                78778 non-null  int64  \n",
            " 1   EmployeeName      78778 non-null  object \n",
            " 2   JobTitle          78778 non-null  object \n",
            " 3   BasePay           78777 non-null  float64\n",
            " 4   OvertimePay       78777 non-null  float64\n",
            " 5   OtherPay          78777 non-null  float64\n",
            " 6   Benefits          42618 non-null  float64\n",
            " 7   TotalPay          78777 non-null  float64\n",
            " 8   TotalPayBenefits  78777 non-null  float64\n",
            " 9   Year              78777 non-null  float64\n",
            " 10  Notes             0 non-null      float64\n",
            " 11  Agency            78777 non-null  object \n",
            " 12  Status            0 non-null      float64\n",
            "dtypes: float64(9), int64(1), object(3)\n",
            "memory usage: 7.8+ MB\n"
          ]
        }
      ],
      "source": [
        "salary.info()"
      ]
    },
    {
      "cell_type": "code",
      "execution_count": 69,
      "metadata": {
        "id": "wwNdD69tNX6R",
        "outputId": "ff5de79f-4f41-419c-9879-7ee71d9e8483",
        "colab": {
          "base_uri": "https://localhost:8080/",
          "height": 300
        }
      },
      "outputs": [
        {
          "output_type": "execute_result",
          "data": {
            "text/html": [
              "\n",
              "  <div id=\"df-1c7d1595-6316-4d32-91b4-96b72f02baf5\">\n",
              "    <div class=\"colab-df-container\">\n",
              "      <div>\n",
              "<style scoped>\n",
              "    .dataframe tbody tr th:only-of-type {\n",
              "        vertical-align: middle;\n",
              "    }\n",
              "\n",
              "    .dataframe tbody tr th {\n",
              "        vertical-align: top;\n",
              "    }\n",
              "\n",
              "    .dataframe thead th {\n",
              "        text-align: right;\n",
              "    }\n",
              "</style>\n",
              "<table border=\"1\" class=\"dataframe\">\n",
              "  <thead>\n",
              "    <tr style=\"text-align: right;\">\n",
              "      <th></th>\n",
              "      <th>Id</th>\n",
              "      <th>BasePay</th>\n",
              "      <th>OvertimePay</th>\n",
              "      <th>OtherPay</th>\n",
              "      <th>Benefits</th>\n",
              "      <th>TotalPay</th>\n",
              "      <th>TotalPayBenefits</th>\n",
              "      <th>Year</th>\n",
              "      <th>Notes</th>\n",
              "      <th>Status</th>\n",
              "    </tr>\n",
              "  </thead>\n",
              "  <tbody>\n",
              "    <tr>\n",
              "      <th>count</th>\n",
              "      <td>78778.00000</td>\n",
              "      <td>78777.000000</td>\n",
              "      <td>78777.000000</td>\n",
              "      <td>78777.000000</td>\n",
              "      <td>42618.000000</td>\n",
              "      <td>78777.000000</td>\n",
              "      <td>78777.000000</td>\n",
              "      <td>78777.000000</td>\n",
              "      <td>0.0</td>\n",
              "      <td>0.0</td>\n",
              "    </tr>\n",
              "    <tr>\n",
              "      <th>mean</th>\n",
              "      <td>39389.50000</td>\n",
              "      <td>69878.083936</td>\n",
              "      <td>5701.249934</td>\n",
              "      <td>4246.949876</td>\n",
              "      <td>28640.709137</td>\n",
              "      <td>79826.283747</td>\n",
              "      <td>95320.777597</td>\n",
              "      <td>2011.615281</td>\n",
              "      <td>NaN</td>\n",
              "      <td>NaN</td>\n",
              "    </tr>\n",
              "    <tr>\n",
              "      <th>std</th>\n",
              "      <td>22741.39409</td>\n",
              "      <td>44607.098174</td>\n",
              "      <td>12654.006941</td>\n",
              "      <td>8992.953853</td>\n",
              "      <td>15756.957332</td>\n",
              "      <td>53291.316784</td>\n",
              "      <td>64956.852894</td>\n",
              "      <td>0.620714</td>\n",
              "      <td>NaN</td>\n",
              "      <td>NaN</td>\n",
              "    </tr>\n",
              "    <tr>\n",
              "      <th>min</th>\n",
              "      <td>1.00000</td>\n",
              "      <td>-166.010000</td>\n",
              "      <td>0.000000</td>\n",
              "      <td>0.000000</td>\n",
              "      <td>0.000000</td>\n",
              "      <td>0.000000</td>\n",
              "      <td>0.000000</td>\n",
              "      <td>2011.000000</td>\n",
              "      <td>NaN</td>\n",
              "      <td>NaN</td>\n",
              "    </tr>\n",
              "    <tr>\n",
              "      <th>25%</th>\n",
              "      <td>19695.25000</td>\n",
              "      <td>38631.030000</td>\n",
              "      <td>0.000000</td>\n",
              "      <td>1.410000</td>\n",
              "      <td>19423.420000</td>\n",
              "      <td>42473.630000</td>\n",
              "      <td>47867.910000</td>\n",
              "      <td>2011.000000</td>\n",
              "      <td>NaN</td>\n",
              "      <td>NaN</td>\n",
              "    </tr>\n",
              "    <tr>\n",
              "      <th>50%</th>\n",
              "      <td>39389.50000</td>\n",
              "      <td>66066.400000</td>\n",
              "      <td>0.000000</td>\n",
              "      <td>1040.000000</td>\n",
              "      <td>32770.910000</td>\n",
              "      <td>73377.330000</td>\n",
              "      <td>89428.770000</td>\n",
              "      <td>2012.000000</td>\n",
              "      <td>NaN</td>\n",
              "      <td>NaN</td>\n",
              "    </tr>\n",
              "    <tr>\n",
              "      <th>75%</th>\n",
              "      <td>59083.75000</td>\n",
              "      <td>102242.980000</td>\n",
              "      <td>5393.520000</td>\n",
              "      <td>5026.760000</td>\n",
              "      <td>38860.562500</td>\n",
              "      <td>115703.460000</td>\n",
              "      <td>135340.820000</td>\n",
              "      <td>2012.000000</td>\n",
              "      <td>NaN</td>\n",
              "      <td>NaN</td>\n",
              "    </tr>\n",
              "    <tr>\n",
              "      <th>max</th>\n",
              "      <td>78778.00000</td>\n",
              "      <td>319275.010000</td>\n",
              "      <td>245131.880000</td>\n",
              "      <td>400184.250000</td>\n",
              "      <td>86533.210000</td>\n",
              "      <td>567595.430000</td>\n",
              "      <td>567595.430000</td>\n",
              "      <td>2013.000000</td>\n",
              "      <td>NaN</td>\n",
              "      <td>NaN</td>\n",
              "    </tr>\n",
              "  </tbody>\n",
              "</table>\n",
              "</div>\n",
              "      <button class=\"colab-df-convert\" onclick=\"convertToInteractive('df-1c7d1595-6316-4d32-91b4-96b72f02baf5')\"\n",
              "              title=\"Convert this dataframe to an interactive table.\"\n",
              "              style=\"display:none;\">\n",
              "        \n",
              "  <svg xmlns=\"http://www.w3.org/2000/svg\" height=\"24px\"viewBox=\"0 0 24 24\"\n",
              "       width=\"24px\">\n",
              "    <path d=\"M0 0h24v24H0V0z\" fill=\"none\"/>\n",
              "    <path d=\"M18.56 5.44l.94 2.06.94-2.06 2.06-.94-2.06-.94-.94-2.06-.94 2.06-2.06.94zm-11 1L8.5 8.5l.94-2.06 2.06-.94-2.06-.94L8.5 2.5l-.94 2.06-2.06.94zm10 10l.94 2.06.94-2.06 2.06-.94-2.06-.94-.94-2.06-.94 2.06-2.06.94z\"/><path d=\"M17.41 7.96l-1.37-1.37c-.4-.4-.92-.59-1.43-.59-.52 0-1.04.2-1.43.59L10.3 9.45l-7.72 7.72c-.78.78-.78 2.05 0 2.83L4 21.41c.39.39.9.59 1.41.59.51 0 1.02-.2 1.41-.59l7.78-7.78 2.81-2.81c.8-.78.8-2.07 0-2.86zM5.41 20L4 18.59l7.72-7.72 1.47 1.35L5.41 20z\"/>\n",
              "  </svg>\n",
              "      </button>\n",
              "      \n",
              "  <style>\n",
              "    .colab-df-container {\n",
              "      display:flex;\n",
              "      flex-wrap:wrap;\n",
              "      gap: 12px;\n",
              "    }\n",
              "\n",
              "    .colab-df-convert {\n",
              "      background-color: #E8F0FE;\n",
              "      border: none;\n",
              "      border-radius: 50%;\n",
              "      cursor: pointer;\n",
              "      display: none;\n",
              "      fill: #1967D2;\n",
              "      height: 32px;\n",
              "      padding: 0 0 0 0;\n",
              "      width: 32px;\n",
              "    }\n",
              "\n",
              "    .colab-df-convert:hover {\n",
              "      background-color: #E2EBFA;\n",
              "      box-shadow: 0px 1px 2px rgba(60, 64, 67, 0.3), 0px 1px 3px 1px rgba(60, 64, 67, 0.15);\n",
              "      fill: #174EA6;\n",
              "    }\n",
              "\n",
              "    [theme=dark] .colab-df-convert {\n",
              "      background-color: #3B4455;\n",
              "      fill: #D2E3FC;\n",
              "    }\n",
              "\n",
              "    [theme=dark] .colab-df-convert:hover {\n",
              "      background-color: #434B5C;\n",
              "      box-shadow: 0px 1px 3px 1px rgba(0, 0, 0, 0.15);\n",
              "      filter: drop-shadow(0px 1px 2px rgba(0, 0, 0, 0.3));\n",
              "      fill: #FFFFFF;\n",
              "    }\n",
              "  </style>\n",
              "\n",
              "      <script>\n",
              "        const buttonEl =\n",
              "          document.querySelector('#df-1c7d1595-6316-4d32-91b4-96b72f02baf5 button.colab-df-convert');\n",
              "        buttonEl.style.display =\n",
              "          google.colab.kernel.accessAllowed ? 'block' : 'none';\n",
              "\n",
              "        async function convertToInteractive(key) {\n",
              "          const element = document.querySelector('#df-1c7d1595-6316-4d32-91b4-96b72f02baf5');\n",
              "          const dataTable =\n",
              "            await google.colab.kernel.invokeFunction('convertToInteractive',\n",
              "                                                     [key], {});\n",
              "          if (!dataTable) return;\n",
              "\n",
              "          const docLinkHtml = 'Like what you see? Visit the ' +\n",
              "            '<a target=\"_blank\" href=https://colab.research.google.com/notebooks/data_table.ipynb>data table notebook</a>'\n",
              "            + ' to learn more about interactive tables.';\n",
              "          element.innerHTML = '';\n",
              "          dataTable['output_type'] = 'display_data';\n",
              "          await google.colab.output.renderOutput(dataTable, element);\n",
              "          const docLink = document.createElement('div');\n",
              "          docLink.innerHTML = docLinkHtml;\n",
              "          element.appendChild(docLink);\n",
              "        }\n",
              "      </script>\n",
              "    </div>\n",
              "  </div>\n",
              "  "
            ],
            "text/plain": [
              "                Id        BasePay    OvertimePay  ...          Year  Notes  Status\n",
              "count  78778.00000   78777.000000   78777.000000  ...  78777.000000    0.0     0.0\n",
              "mean   39389.50000   69878.083936    5701.249934  ...   2011.615281    NaN     NaN\n",
              "std    22741.39409   44607.098174   12654.006941  ...      0.620714    NaN     NaN\n",
              "min        1.00000    -166.010000       0.000000  ...   2011.000000    NaN     NaN\n",
              "25%    19695.25000   38631.030000       0.000000  ...   2011.000000    NaN     NaN\n",
              "50%    39389.50000   66066.400000       0.000000  ...   2012.000000    NaN     NaN\n",
              "75%    59083.75000  102242.980000    5393.520000  ...   2012.000000    NaN     NaN\n",
              "max    78778.00000  319275.010000  245131.880000  ...   2013.000000    NaN     NaN\n",
              "\n",
              "[8 rows x 10 columns]"
            ]
          },
          "metadata": {},
          "execution_count": 69
        }
      ],
      "source": [
        "salary.describe()"
      ]
    },
    {
      "cell_type": "markdown",
      "metadata": {
        "id": "rvscM9ZhNX6R"
      },
      "source": [
        "**How many different year value are there**"
      ]
    },
    {
      "cell_type": "code",
      "execution_count": 70,
      "metadata": {
        "id": "_8RimAdYNX6R",
        "outputId": "44bed4c0-1d99-4a6d-fb8d-a3546e5da7f2",
        "colab": {
          "base_uri": "https://localhost:8080/"
        }
      },
      "outputs": [
        {
          "output_type": "execute_result",
          "data": {
            "text/plain": [
              "2012.0    36766\n",
              "2011.0    36159\n",
              "2013.0     5852\n",
              "Name: Year, dtype: int64"
            ]
          },
          "metadata": {},
          "execution_count": 70
        }
      ],
      "source": [
        "salary.Year.value_counts()"
      ]
    },
    {
      "cell_type": "markdown",
      "metadata": {
        "id": "k6kLFB3HNX6S"
      },
      "source": [
        "**Print out max and avg Totalpay**"
      ]
    },
    {
      "cell_type": "code",
      "execution_count": 71,
      "metadata": {
        "id": "VIlC-msNNX6S",
        "outputId": "7a98818a-146c-4ac0-cef1-de63d0f24c72",
        "colab": {
          "base_uri": "https://localhost:8080/"
        }
      },
      "outputs": [
        {
          "output_type": "execute_result",
          "data": {
            "text/plain": [
              "567595.43"
            ]
          },
          "metadata": {},
          "execution_count": 71
        }
      ],
      "source": [
        "#max\n",
        "salary.TotalPay.max()"
      ]
    },
    {
      "cell_type": "code",
      "execution_count": 72,
      "metadata": {
        "id": "0uyis_xLNX6T",
        "outputId": "1f4670ec-0824-431c-eb74-51914a52d986",
        "colab": {
          "base_uri": "https://localhost:8080/"
        }
      },
      "outputs": [
        {
          "output_type": "execute_result",
          "data": {
            "text/plain": [
              "79826.2837467841"
            ]
          },
          "metadata": {},
          "execution_count": 72
        }
      ],
      "source": [
        "#avg\n",
        "salary.TotalPay.mean()"
      ]
    },
    {
      "cell_type": "markdown",
      "metadata": {
        "id": "WOro6k8fNX6T"
      },
      "source": [
        "**How many records are there which have TotalPay bigger than avg TotalPay**"
      ]
    },
    {
      "cell_type": "code",
      "execution_count": 73,
      "metadata": {
        "id": "X_Ik_7MqNX6T",
        "outputId": "f72d198a-89cb-4a82-f03e-87aad9612e32",
        "colab": {
          "base_uri": "https://localhost:8080/"
        }
      },
      "outputs": [
        {
          "output_type": "execute_result",
          "data": {
            "text/plain": [
              "123290.70    56\n",
              "132242.50    49\n",
              "105489.00    42\n",
              "168419.82    27\n",
              "97461.00     23\n",
              "             ..\n",
              "163404.38     1\n",
              "201641.91     1\n",
              "158310.00     1\n",
              "132293.02     1\n",
              "148859.07     1\n",
              "Name: TotalPay, Length: 33174, dtype: int64"
            ]
          },
          "metadata": {},
          "execution_count": 73
        }
      ],
      "source": [
        "salary[\"TotalPay\"][salary.TotalPay > salary.TotalPay.mean()].value_counts()"
      ]
    },
    {
      "cell_type": "code",
      "execution_count": 74,
      "metadata": {
        "scrolled": true,
        "id": "wszGB2Y4NX6T",
        "outputId": "8f86c496-8965-4a60-86bc-1ac2734b3ed4",
        "colab": {
          "base_uri": "https://localhost:8080/"
        }
      },
      "outputs": [
        {
          "output_type": "execute_result",
          "data": {
            "text/plain": [
              "33174"
            ]
          },
          "metadata": {},
          "execution_count": 74
        }
      ],
      "source": [
        "len(salary[\"TotalPay\"][salary.TotalPay > salary.TotalPay.mean()].value_counts())"
      ]
    },
    {
      "cell_type": "markdown",
      "metadata": {
        "id": "lo8u9pbbNX6U"
      },
      "source": [
        "**How much does ALBERT PARDINI make (including benefits)?**"
      ]
    },
    {
      "cell_type": "code",
      "execution_count": 75,
      "metadata": {
        "id": "BPrgMjIsNX6U",
        "outputId": "aa00f368-ef3a-4483-c936-cefefa4f4648",
        "colab": {
          "base_uri": "https://localhost:8080/"
        }
      },
      "outputs": [
        {
          "output_type": "execute_result",
          "data": {
            "text/plain": [
              "2    335279.91\n",
              "Name: TotalPay, dtype: float64"
            ]
          },
          "metadata": {},
          "execution_count": 75
        }
      ],
      "source": [
        "salary[\"TotalPay\"][salary[\"EmployeeName\"]==\"ALBERT PARDINI\"]"
      ]
    },
    {
      "cell_type": "markdown",
      "metadata": {
        "id": "UOEipN2BNX6U"
      },
      "source": [
        "**Who is lowest paid person**"
      ]
    },
    {
      "cell_type": "code",
      "execution_count": 76,
      "metadata": {
        "id": "OHkZRvA2NX6U",
        "outputId": "d782b4fe-a63c-4eb3-c331-a8d3a5fa6ac3",
        "colab": {
          "base_uri": "https://localhost:8080/"
        }
      },
      "outputs": [
        {
          "output_type": "execute_result",
          "data": {
            "text/plain": [
              "36156        PAULETTE ADAMS\n",
              "36157         KAUKAB MOHSIN\n",
              "36158    JOSEPHINE MCCREARY\n",
              "Name: EmployeeName, dtype: object"
            ]
          },
          "metadata": {},
          "execution_count": 76
        }
      ],
      "source": [
        "salary[salary.TotalPayBenefits==salary.TotalPayBenefits.min()]['EmployeeName']"
      ]
    },
    {
      "cell_type": "markdown",
      "metadata": {
        "id": "e0y2V8AUNX6U"
      },
      "source": [
        "**What are the unique Jobs in dataset?**"
      ]
    },
    {
      "cell_type": "code",
      "execution_count": 77,
      "metadata": {
        "id": "Eay20wGCNX6U",
        "outputId": "a1a2f836-7ff0-44af-9180-045c8ea5f06d",
        "colab": {
          "base_uri": "https://localhost:8080/"
        }
      },
      "outputs": [
        {
          "output_type": "execute_result",
          "data": {
            "text/plain": [
              "array(['GENERAL MANAGER-METROPOLITAN TRANSIT AUTHORITY',\n",
              "       'CAPTAIN III (POLICE DEPARTMENT)',\n",
              "       'WIRE ROPE CABLE MAINTENANCE MECHANIC', ...,\n",
              "       'Civil Case Settlmnt Specialist', 'IT Operations Support Admin II',\n",
              "       'Police Officer '], dtype=object)"
            ]
          },
          "metadata": {},
          "execution_count": 77
        }
      ],
      "source": [
        "salary.JobTitle.unique()"
      ]
    },
    {
      "cell_type": "markdown",
      "metadata": {
        "id": "vKqMZ8Z0NX6U"
      },
      "source": [
        "**List 3 least common Jobs**"
      ]
    },
    {
      "cell_type": "code",
      "execution_count": 78,
      "metadata": {
        "id": "YetCbVU6NX6V",
        "outputId": "88e6a0ad-3d4a-4bbd-d9c0-861d110b9e6d",
        "colab": {
          "base_uri": "https://localhost:8080/"
        }
      },
      "outputs": [
        {
          "output_type": "execute_result",
          "data": {
            "text/plain": [
              "ASSESSOR                           1\n",
              "PRINCIPAL RECREATION SUPERVISOR    1\n",
              "SPECIAL ASSISTANT XV               1\n",
              "Name: JobTitle, dtype: int64"
            ]
          },
          "metadata": {},
          "execution_count": 78
        }
      ],
      "source": [
        "salary[\"JobTitle\"].value_counts().tail(3)"
      ]
    },
    {
      "cell_type": "markdown",
      "metadata": {
        "id": "K2niYRRINX6V"
      },
      "source": [
        "**How many people earned more than avg in 2012**"
      ]
    },
    {
      "cell_type": "code",
      "execution_count": 81,
      "metadata": {
        "id": "OAhwwIFZNX6V",
        "outputId": "5c31fe00-fa4a-4a3c-ae26-18de4f6882f3",
        "colab": {
          "base_uri": "https://localhost:8080/"
        }
      },
      "outputs": [
        {
          "output_type": "execute_result",
          "data": {
            "text/plain": [
              "19998"
            ]
          },
          "metadata": {},
          "execution_count": 81
        }
      ],
      "source": [
        "salary[(salary.TotalPayBenefits>salary.TotalPayBenefits.mean()) & (salary.Year==2012)]['EmployeeName'].count()"
      ]
    },
    {
      "cell_type": "markdown",
      "metadata": {
        "id": "qMUVAD1rNX6V"
      },
      "source": [
        "**How many people have the word Manager in their job title?**"
      ]
    },
    {
      "cell_type": "code",
      "execution_count": 82,
      "metadata": {
        "id": "w4lRqoU2NX6V"
      },
      "outputs": [],
      "source": [
        "def manager_func(x):\n",
        "    if 'manager' in x.lower():\n",
        "        return True\n",
        "    else:\n",
        "        return False"
      ]
    },
    {
      "cell_type": "code",
      "execution_count": 83,
      "metadata": {
        "id": "-jJYxffLNX6V",
        "outputId": "f89364b9-a2e2-4a57-b47f-683e4d4d176e",
        "colab": {
          "base_uri": "https://localhost:8080/"
        }
      },
      "outputs": [
        {
          "output_type": "execute_result",
          "data": {
            "text/plain": [
              "2648"
            ]
          },
          "metadata": {},
          "execution_count": 83
        }
      ],
      "source": [
        "len(salary[salary.JobTitle.apply(lambda x:manager_func(x))])"
      ]
    },
    {
      "cell_type": "code",
      "execution_count": 84,
      "metadata": {
        "id": "GRR4IAiqNX6W",
        "outputId": "d8b4e308-7a8e-4a13-a71e-a82eb33c9109",
        "colab": {
          "base_uri": "https://localhost:8080/"
        }
      },
      "outputs": [
        {
          "output_type": "execute_result",
          "data": {
            "text/plain": [
              "2648"
            ]
          },
          "metadata": {},
          "execution_count": 84
        }
      ],
      "source": [
        "#use apply function here\n",
        "len(salary[salary.JobTitle.apply(lambda x: True if 'manager' in x.lower() else False)])"
      ]
    },
    {
      "cell_type": "markdown",
      "metadata": {
        "id": "EYvYF51MNX6W"
      },
      "source": [
        "**Take Id,EmployeeName,JobTitle,TotalPay and TotalPayBenefits columns with iloc and assign it as sal_new dataframe**"
      ]
    },
    {
      "cell_type": "code",
      "execution_count": 85,
      "metadata": {
        "id": "Vt3MGjsaNX6W",
        "outputId": "aa987888-213e-447f-9975-e1a4ffc5cde7",
        "colab": {
          "base_uri": "https://localhost:8080/",
          "height": 206
        }
      },
      "outputs": [
        {
          "output_type": "execute_result",
          "data": {
            "text/html": [
              "\n",
              "  <div id=\"df-ec1b2a12-6570-4ea9-8007-1e81a1a30b51\">\n",
              "    <div class=\"colab-df-container\">\n",
              "      <div>\n",
              "<style scoped>\n",
              "    .dataframe tbody tr th:only-of-type {\n",
              "        vertical-align: middle;\n",
              "    }\n",
              "\n",
              "    .dataframe tbody tr th {\n",
              "        vertical-align: top;\n",
              "    }\n",
              "\n",
              "    .dataframe thead th {\n",
              "        text-align: right;\n",
              "    }\n",
              "</style>\n",
              "<table border=\"1\" class=\"dataframe\">\n",
              "  <thead>\n",
              "    <tr style=\"text-align: right;\">\n",
              "      <th></th>\n",
              "      <th>Id</th>\n",
              "      <th>EmployeeName</th>\n",
              "      <th>JobTitle</th>\n",
              "      <th>TotalPay</th>\n",
              "      <th>TotalPayBenefits</th>\n",
              "    </tr>\n",
              "  </thead>\n",
              "  <tbody>\n",
              "    <tr>\n",
              "      <th>0</th>\n",
              "      <td>1</td>\n",
              "      <td>NATHANIEL FORD</td>\n",
              "      <td>GENERAL MANAGER-METROPOLITAN TRANSIT AUTHORITY</td>\n",
              "      <td>567595.43</td>\n",
              "      <td>567595.43</td>\n",
              "    </tr>\n",
              "    <tr>\n",
              "      <th>1</th>\n",
              "      <td>2</td>\n",
              "      <td>GARY JIMENEZ</td>\n",
              "      <td>CAPTAIN III (POLICE DEPARTMENT)</td>\n",
              "      <td>538909.28</td>\n",
              "      <td>538909.28</td>\n",
              "    </tr>\n",
              "    <tr>\n",
              "      <th>2</th>\n",
              "      <td>3</td>\n",
              "      <td>ALBERT PARDINI</td>\n",
              "      <td>CAPTAIN III (POLICE DEPARTMENT)</td>\n",
              "      <td>335279.91</td>\n",
              "      <td>335279.91</td>\n",
              "    </tr>\n",
              "    <tr>\n",
              "      <th>3</th>\n",
              "      <td>4</td>\n",
              "      <td>CHRISTOPHER CHONG</td>\n",
              "      <td>WIRE ROPE CABLE MAINTENANCE MECHANIC</td>\n",
              "      <td>332343.61</td>\n",
              "      <td>332343.61</td>\n",
              "    </tr>\n",
              "    <tr>\n",
              "      <th>4</th>\n",
              "      <td>5</td>\n",
              "      <td>PATRICK GARDNER</td>\n",
              "      <td>DEPUTY CHIEF OF DEPARTMENT,(FIRE DEPARTMENT)</td>\n",
              "      <td>326373.19</td>\n",
              "      <td>326373.19</td>\n",
              "    </tr>\n",
              "  </tbody>\n",
              "</table>\n",
              "</div>\n",
              "      <button class=\"colab-df-convert\" onclick=\"convertToInteractive('df-ec1b2a12-6570-4ea9-8007-1e81a1a30b51')\"\n",
              "              title=\"Convert this dataframe to an interactive table.\"\n",
              "              style=\"display:none;\">\n",
              "        \n",
              "  <svg xmlns=\"http://www.w3.org/2000/svg\" height=\"24px\"viewBox=\"0 0 24 24\"\n",
              "       width=\"24px\">\n",
              "    <path d=\"M0 0h24v24H0V0z\" fill=\"none\"/>\n",
              "    <path d=\"M18.56 5.44l.94 2.06.94-2.06 2.06-.94-2.06-.94-.94-2.06-.94 2.06-2.06.94zm-11 1L8.5 8.5l.94-2.06 2.06-.94-2.06-.94L8.5 2.5l-.94 2.06-2.06.94zm10 10l.94 2.06.94-2.06 2.06-.94-2.06-.94-.94-2.06-.94 2.06-2.06.94z\"/><path d=\"M17.41 7.96l-1.37-1.37c-.4-.4-.92-.59-1.43-.59-.52 0-1.04.2-1.43.59L10.3 9.45l-7.72 7.72c-.78.78-.78 2.05 0 2.83L4 21.41c.39.39.9.59 1.41.59.51 0 1.02-.2 1.41-.59l7.78-7.78 2.81-2.81c.8-.78.8-2.07 0-2.86zM5.41 20L4 18.59l7.72-7.72 1.47 1.35L5.41 20z\"/>\n",
              "  </svg>\n",
              "      </button>\n",
              "      \n",
              "  <style>\n",
              "    .colab-df-container {\n",
              "      display:flex;\n",
              "      flex-wrap:wrap;\n",
              "      gap: 12px;\n",
              "    }\n",
              "\n",
              "    .colab-df-convert {\n",
              "      background-color: #E8F0FE;\n",
              "      border: none;\n",
              "      border-radius: 50%;\n",
              "      cursor: pointer;\n",
              "      display: none;\n",
              "      fill: #1967D2;\n",
              "      height: 32px;\n",
              "      padding: 0 0 0 0;\n",
              "      width: 32px;\n",
              "    }\n",
              "\n",
              "    .colab-df-convert:hover {\n",
              "      background-color: #E2EBFA;\n",
              "      box-shadow: 0px 1px 2px rgba(60, 64, 67, 0.3), 0px 1px 3px 1px rgba(60, 64, 67, 0.15);\n",
              "      fill: #174EA6;\n",
              "    }\n",
              "\n",
              "    [theme=dark] .colab-df-convert {\n",
              "      background-color: #3B4455;\n",
              "      fill: #D2E3FC;\n",
              "    }\n",
              "\n",
              "    [theme=dark] .colab-df-convert:hover {\n",
              "      background-color: #434B5C;\n",
              "      box-shadow: 0px 1px 3px 1px rgba(0, 0, 0, 0.15);\n",
              "      filter: drop-shadow(0px 1px 2px rgba(0, 0, 0, 0.3));\n",
              "      fill: #FFFFFF;\n",
              "    }\n",
              "  </style>\n",
              "\n",
              "      <script>\n",
              "        const buttonEl =\n",
              "          document.querySelector('#df-ec1b2a12-6570-4ea9-8007-1e81a1a30b51 button.colab-df-convert');\n",
              "        buttonEl.style.display =\n",
              "          google.colab.kernel.accessAllowed ? 'block' : 'none';\n",
              "\n",
              "        async function convertToInteractive(key) {\n",
              "          const element = document.querySelector('#df-ec1b2a12-6570-4ea9-8007-1e81a1a30b51');\n",
              "          const dataTable =\n",
              "            await google.colab.kernel.invokeFunction('convertToInteractive',\n",
              "                                                     [key], {});\n",
              "          if (!dataTable) return;\n",
              "\n",
              "          const docLinkHtml = 'Like what you see? Visit the ' +\n",
              "            '<a target=\"_blank\" href=https://colab.research.google.com/notebooks/data_table.ipynb>data table notebook</a>'\n",
              "            + ' to learn more about interactive tables.';\n",
              "          element.innerHTML = '';\n",
              "          dataTable['output_type'] = 'display_data';\n",
              "          await google.colab.output.renderOutput(dataTable, element);\n",
              "          const docLink = document.createElement('div');\n",
              "          docLink.innerHTML = docLinkHtml;\n",
              "          element.appendChild(docLink);\n",
              "        }\n",
              "      </script>\n",
              "    </div>\n",
              "  </div>\n",
              "  "
            ],
            "text/plain": [
              "   Id       EmployeeName  ...   TotalPay  TotalPayBenefits\n",
              "0   1     NATHANIEL FORD  ...  567595.43         567595.43\n",
              "1   2       GARY JIMENEZ  ...  538909.28         538909.28\n",
              "2   3     ALBERT PARDINI  ...  335279.91         335279.91\n",
              "3   4  CHRISTOPHER CHONG  ...  332343.61         332343.61\n",
              "4   5    PATRICK GARDNER  ...  326373.19         326373.19\n",
              "\n",
              "[5 rows x 5 columns]"
            ]
          },
          "metadata": {},
          "execution_count": 85
        }
      ],
      "source": [
        "sal_new=salary.iloc[:,[0,1,2,7,8]]\n",
        "sal_new.head()"
      ]
    },
    {
      "cell_type": "code",
      "execution_count": 86,
      "metadata": {
        "id": "5erlMrXNNX6W",
        "outputId": "602d84da-8720-4908-b872-5cfd57a5bd06",
        "colab": {
          "base_uri": "https://localhost:8080/",
          "height": 424
        }
      },
      "outputs": [
        {
          "output_type": "execute_result",
          "data": {
            "text/html": [
              "\n",
              "  <div id=\"df-d579328d-e4af-4e9e-a4d1-2e6e5eee0252\">\n",
              "    <div class=\"colab-df-container\">\n",
              "      <div>\n",
              "<style scoped>\n",
              "    .dataframe tbody tr th:only-of-type {\n",
              "        vertical-align: middle;\n",
              "    }\n",
              "\n",
              "    .dataframe tbody tr th {\n",
              "        vertical-align: top;\n",
              "    }\n",
              "\n",
              "    .dataframe thead th {\n",
              "        text-align: right;\n",
              "    }\n",
              "</style>\n",
              "<table border=\"1\" class=\"dataframe\">\n",
              "  <thead>\n",
              "    <tr style=\"text-align: right;\">\n",
              "      <th></th>\n",
              "      <th>Id</th>\n",
              "      <th>EmployeeName</th>\n",
              "      <th>JobTitle</th>\n",
              "      <th>TotalPay</th>\n",
              "      <th>TotalPayBenefits</th>\n",
              "    </tr>\n",
              "  </thead>\n",
              "  <tbody>\n",
              "    <tr>\n",
              "      <th>0</th>\n",
              "      <td>1</td>\n",
              "      <td>NATHANIEL FORD</td>\n",
              "      <td>GENERAL MANAGER-METROPOLITAN TRANSIT AUTHORITY</td>\n",
              "      <td>567595.43</td>\n",
              "      <td>567595.43</td>\n",
              "    </tr>\n",
              "    <tr>\n",
              "      <th>1</th>\n",
              "      <td>2</td>\n",
              "      <td>GARY JIMENEZ</td>\n",
              "      <td>CAPTAIN III (POLICE DEPARTMENT)</td>\n",
              "      <td>538909.28</td>\n",
              "      <td>538909.28</td>\n",
              "    </tr>\n",
              "    <tr>\n",
              "      <th>2</th>\n",
              "      <td>3</td>\n",
              "      <td>ALBERT PARDINI</td>\n",
              "      <td>CAPTAIN III (POLICE DEPARTMENT)</td>\n",
              "      <td>335279.91</td>\n",
              "      <td>335279.91</td>\n",
              "    </tr>\n",
              "    <tr>\n",
              "      <th>3</th>\n",
              "      <td>4</td>\n",
              "      <td>CHRISTOPHER CHONG</td>\n",
              "      <td>WIRE ROPE CABLE MAINTENANCE MECHANIC</td>\n",
              "      <td>332343.61</td>\n",
              "      <td>332343.61</td>\n",
              "    </tr>\n",
              "    <tr>\n",
              "      <th>4</th>\n",
              "      <td>5</td>\n",
              "      <td>PATRICK GARDNER</td>\n",
              "      <td>DEPUTY CHIEF OF DEPARTMENT,(FIRE DEPARTMENT)</td>\n",
              "      <td>326373.19</td>\n",
              "      <td>326373.19</td>\n",
              "    </tr>\n",
              "    <tr>\n",
              "      <th>...</th>\n",
              "      <td>...</td>\n",
              "      <td>...</td>\n",
              "      <td>...</td>\n",
              "      <td>...</td>\n",
              "      <td>...</td>\n",
              "    </tr>\n",
              "    <tr>\n",
              "      <th>78773</th>\n",
              "      <td>78774</td>\n",
              "      <td>Catheryn  Williams</td>\n",
              "      <td>Registered Nurse</td>\n",
              "      <td>130805.71</td>\n",
              "      <td>170030.16</td>\n",
              "    </tr>\n",
              "    <tr>\n",
              "      <th>78774</th>\n",
              "      <td>78775</td>\n",
              "      <td>Suan  Chang</td>\n",
              "      <td>Registered Nurse</td>\n",
              "      <td>131363.11</td>\n",
              "      <td>170030.11</td>\n",
              "    </tr>\n",
              "    <tr>\n",
              "      <th>78775</th>\n",
              "      <td>78776</td>\n",
              "      <td>Eric  Chiang</td>\n",
              "      <td>Police Officer 3</td>\n",
              "      <td>132951.32</td>\n",
              "      <td>170022.83</td>\n",
              "    </tr>\n",
              "    <tr>\n",
              "      <th>78776</th>\n",
              "      <td>78777</td>\n",
              "      <td>Alan  Lamb</td>\n",
              "      <td>Police Officer 2</td>\n",
              "      <td>133439.08</td>\n",
              "      <td>170010.19</td>\n",
              "    </tr>\n",
              "    <tr>\n",
              "      <th>78777</th>\n",
              "      <td>78778</td>\n",
              "      <td>Amalia  Barcena-Bosnich</td>\n",
              "      <td>Police Officer</td>\n",
              "      <td>NaN</td>\n",
              "      <td>NaN</td>\n",
              "    </tr>\n",
              "  </tbody>\n",
              "</table>\n",
              "<p>78778 rows × 5 columns</p>\n",
              "</div>\n",
              "      <button class=\"colab-df-convert\" onclick=\"convertToInteractive('df-d579328d-e4af-4e9e-a4d1-2e6e5eee0252')\"\n",
              "              title=\"Convert this dataframe to an interactive table.\"\n",
              "              style=\"display:none;\">\n",
              "        \n",
              "  <svg xmlns=\"http://www.w3.org/2000/svg\" height=\"24px\"viewBox=\"0 0 24 24\"\n",
              "       width=\"24px\">\n",
              "    <path d=\"M0 0h24v24H0V0z\" fill=\"none\"/>\n",
              "    <path d=\"M18.56 5.44l.94 2.06.94-2.06 2.06-.94-2.06-.94-.94-2.06-.94 2.06-2.06.94zm-11 1L8.5 8.5l.94-2.06 2.06-.94-2.06-.94L8.5 2.5l-.94 2.06-2.06.94zm10 10l.94 2.06.94-2.06 2.06-.94-2.06-.94-.94-2.06-.94 2.06-2.06.94z\"/><path d=\"M17.41 7.96l-1.37-1.37c-.4-.4-.92-.59-1.43-.59-.52 0-1.04.2-1.43.59L10.3 9.45l-7.72 7.72c-.78.78-.78 2.05 0 2.83L4 21.41c.39.39.9.59 1.41.59.51 0 1.02-.2 1.41-.59l7.78-7.78 2.81-2.81c.8-.78.8-2.07 0-2.86zM5.41 20L4 18.59l7.72-7.72 1.47 1.35L5.41 20z\"/>\n",
              "  </svg>\n",
              "      </button>\n",
              "      \n",
              "  <style>\n",
              "    .colab-df-container {\n",
              "      display:flex;\n",
              "      flex-wrap:wrap;\n",
              "      gap: 12px;\n",
              "    }\n",
              "\n",
              "    .colab-df-convert {\n",
              "      background-color: #E8F0FE;\n",
              "      border: none;\n",
              "      border-radius: 50%;\n",
              "      cursor: pointer;\n",
              "      display: none;\n",
              "      fill: #1967D2;\n",
              "      height: 32px;\n",
              "      padding: 0 0 0 0;\n",
              "      width: 32px;\n",
              "    }\n",
              "\n",
              "    .colab-df-convert:hover {\n",
              "      background-color: #E2EBFA;\n",
              "      box-shadow: 0px 1px 2px rgba(60, 64, 67, 0.3), 0px 1px 3px 1px rgba(60, 64, 67, 0.15);\n",
              "      fill: #174EA6;\n",
              "    }\n",
              "\n",
              "    [theme=dark] .colab-df-convert {\n",
              "      background-color: #3B4455;\n",
              "      fill: #D2E3FC;\n",
              "    }\n",
              "\n",
              "    [theme=dark] .colab-df-convert:hover {\n",
              "      background-color: #434B5C;\n",
              "      box-shadow: 0px 1px 3px 1px rgba(0, 0, 0, 0.15);\n",
              "      filter: drop-shadow(0px 1px 2px rgba(0, 0, 0, 0.3));\n",
              "      fill: #FFFFFF;\n",
              "    }\n",
              "  </style>\n",
              "\n",
              "      <script>\n",
              "        const buttonEl =\n",
              "          document.querySelector('#df-d579328d-e4af-4e9e-a4d1-2e6e5eee0252 button.colab-df-convert');\n",
              "        buttonEl.style.display =\n",
              "          google.colab.kernel.accessAllowed ? 'block' : 'none';\n",
              "\n",
              "        async function convertToInteractive(key) {\n",
              "          const element = document.querySelector('#df-d579328d-e4af-4e9e-a4d1-2e6e5eee0252');\n",
              "          const dataTable =\n",
              "            await google.colab.kernel.invokeFunction('convertToInteractive',\n",
              "                                                     [key], {});\n",
              "          if (!dataTable) return;\n",
              "\n",
              "          const docLinkHtml = 'Like what you see? Visit the ' +\n",
              "            '<a target=\"_blank\" href=https://colab.research.google.com/notebooks/data_table.ipynb>data table notebook</a>'\n",
              "            + ' to learn more about interactive tables.';\n",
              "          element.innerHTML = '';\n",
              "          dataTable['output_type'] = 'display_data';\n",
              "          await google.colab.output.renderOutput(dataTable, element);\n",
              "          const docLink = document.createElement('div');\n",
              "          docLink.innerHTML = docLinkHtml;\n",
              "          element.appendChild(docLink);\n",
              "        }\n",
              "      </script>\n",
              "    </div>\n",
              "  </div>\n",
              "  "
            ],
            "text/plain": [
              "          Id             EmployeeName  ...   TotalPay  TotalPayBenefits\n",
              "0          1           NATHANIEL FORD  ...  567595.43         567595.43\n",
              "1          2             GARY JIMENEZ  ...  538909.28         538909.28\n",
              "2          3           ALBERT PARDINI  ...  335279.91         335279.91\n",
              "3          4        CHRISTOPHER CHONG  ...  332343.61         332343.61\n",
              "4          5          PATRICK GARDNER  ...  326373.19         326373.19\n",
              "...      ...                      ...  ...        ...               ...\n",
              "78773  78774       Catheryn  Williams  ...  130805.71         170030.16\n",
              "78774  78775              Suan  Chang  ...  131363.11         170030.11\n",
              "78775  78776             Eric  Chiang  ...  132951.32         170022.83\n",
              "78776  78777               Alan  Lamb  ...  133439.08         170010.19\n",
              "78777  78778  Amalia  Barcena-Bosnich  ...        NaN               NaN\n",
              "\n",
              "[78778 rows x 5 columns]"
            ]
          },
          "metadata": {},
          "execution_count": 86
        }
      ],
      "source": [
        "sal_new"
      ]
    },
    {
      "cell_type": "markdown",
      "metadata": {
        "id": "v_krvsFbNX6W"
      },
      "source": [
        "**Take columns betweeen EmployeeName and TotalPayBenefits with loc and assign it o sal_new df**\n",
        " "
      ]
    },
    {
      "cell_type": "code",
      "execution_count": 87,
      "metadata": {
        "id": "h72mimsbNX6W",
        "outputId": "b2220cb9-4bc8-4e9c-b4f2-f0da3486b8ab",
        "colab": {
          "base_uri": "https://localhost:8080/",
          "height": 424
        }
      },
      "outputs": [
        {
          "output_type": "execute_result",
          "data": {
            "text/html": [
              "\n",
              "  <div id=\"df-f49428cb-a49b-4c15-a1cf-c4cdad32c75a\">\n",
              "    <div class=\"colab-df-container\">\n",
              "      <div>\n",
              "<style scoped>\n",
              "    .dataframe tbody tr th:only-of-type {\n",
              "        vertical-align: middle;\n",
              "    }\n",
              "\n",
              "    .dataframe tbody tr th {\n",
              "        vertical-align: top;\n",
              "    }\n",
              "\n",
              "    .dataframe thead th {\n",
              "        text-align: right;\n",
              "    }\n",
              "</style>\n",
              "<table border=\"1\" class=\"dataframe\">\n",
              "  <thead>\n",
              "    <tr style=\"text-align: right;\">\n",
              "      <th></th>\n",
              "      <th>EmployeeName</th>\n",
              "      <th>JobTitle</th>\n",
              "      <th>TotalPay</th>\n",
              "      <th>TotalPayBenefits</th>\n",
              "    </tr>\n",
              "  </thead>\n",
              "  <tbody>\n",
              "    <tr>\n",
              "      <th>0</th>\n",
              "      <td>NATHANIEL FORD</td>\n",
              "      <td>GENERAL MANAGER-METROPOLITAN TRANSIT AUTHORITY</td>\n",
              "      <td>567595.43</td>\n",
              "      <td>567595.43</td>\n",
              "    </tr>\n",
              "    <tr>\n",
              "      <th>1</th>\n",
              "      <td>GARY JIMENEZ</td>\n",
              "      <td>CAPTAIN III (POLICE DEPARTMENT)</td>\n",
              "      <td>538909.28</td>\n",
              "      <td>538909.28</td>\n",
              "    </tr>\n",
              "    <tr>\n",
              "      <th>2</th>\n",
              "      <td>ALBERT PARDINI</td>\n",
              "      <td>CAPTAIN III (POLICE DEPARTMENT)</td>\n",
              "      <td>335279.91</td>\n",
              "      <td>335279.91</td>\n",
              "    </tr>\n",
              "    <tr>\n",
              "      <th>3</th>\n",
              "      <td>CHRISTOPHER CHONG</td>\n",
              "      <td>WIRE ROPE CABLE MAINTENANCE MECHANIC</td>\n",
              "      <td>332343.61</td>\n",
              "      <td>332343.61</td>\n",
              "    </tr>\n",
              "    <tr>\n",
              "      <th>4</th>\n",
              "      <td>PATRICK GARDNER</td>\n",
              "      <td>DEPUTY CHIEF OF DEPARTMENT,(FIRE DEPARTMENT)</td>\n",
              "      <td>326373.19</td>\n",
              "      <td>326373.19</td>\n",
              "    </tr>\n",
              "    <tr>\n",
              "      <th>...</th>\n",
              "      <td>...</td>\n",
              "      <td>...</td>\n",
              "      <td>...</td>\n",
              "      <td>...</td>\n",
              "    </tr>\n",
              "    <tr>\n",
              "      <th>78773</th>\n",
              "      <td>Catheryn  Williams</td>\n",
              "      <td>Registered Nurse</td>\n",
              "      <td>130805.71</td>\n",
              "      <td>170030.16</td>\n",
              "    </tr>\n",
              "    <tr>\n",
              "      <th>78774</th>\n",
              "      <td>Suan  Chang</td>\n",
              "      <td>Registered Nurse</td>\n",
              "      <td>131363.11</td>\n",
              "      <td>170030.11</td>\n",
              "    </tr>\n",
              "    <tr>\n",
              "      <th>78775</th>\n",
              "      <td>Eric  Chiang</td>\n",
              "      <td>Police Officer 3</td>\n",
              "      <td>132951.32</td>\n",
              "      <td>170022.83</td>\n",
              "    </tr>\n",
              "    <tr>\n",
              "      <th>78776</th>\n",
              "      <td>Alan  Lamb</td>\n",
              "      <td>Police Officer 2</td>\n",
              "      <td>133439.08</td>\n",
              "      <td>170010.19</td>\n",
              "    </tr>\n",
              "    <tr>\n",
              "      <th>78777</th>\n",
              "      <td>Amalia  Barcena-Bosnich</td>\n",
              "      <td>Police Officer</td>\n",
              "      <td>NaN</td>\n",
              "      <td>NaN</td>\n",
              "    </tr>\n",
              "  </tbody>\n",
              "</table>\n",
              "<p>78778 rows × 4 columns</p>\n",
              "</div>\n",
              "      <button class=\"colab-df-convert\" onclick=\"convertToInteractive('df-f49428cb-a49b-4c15-a1cf-c4cdad32c75a')\"\n",
              "              title=\"Convert this dataframe to an interactive table.\"\n",
              "              style=\"display:none;\">\n",
              "        \n",
              "  <svg xmlns=\"http://www.w3.org/2000/svg\" height=\"24px\"viewBox=\"0 0 24 24\"\n",
              "       width=\"24px\">\n",
              "    <path d=\"M0 0h24v24H0V0z\" fill=\"none\"/>\n",
              "    <path d=\"M18.56 5.44l.94 2.06.94-2.06 2.06-.94-2.06-.94-.94-2.06-.94 2.06-2.06.94zm-11 1L8.5 8.5l.94-2.06 2.06-.94-2.06-.94L8.5 2.5l-.94 2.06-2.06.94zm10 10l.94 2.06.94-2.06 2.06-.94-2.06-.94-.94-2.06-.94 2.06-2.06.94z\"/><path d=\"M17.41 7.96l-1.37-1.37c-.4-.4-.92-.59-1.43-.59-.52 0-1.04.2-1.43.59L10.3 9.45l-7.72 7.72c-.78.78-.78 2.05 0 2.83L4 21.41c.39.39.9.59 1.41.59.51 0 1.02-.2 1.41-.59l7.78-7.78 2.81-2.81c.8-.78.8-2.07 0-2.86zM5.41 20L4 18.59l7.72-7.72 1.47 1.35L5.41 20z\"/>\n",
              "  </svg>\n",
              "      </button>\n",
              "      \n",
              "  <style>\n",
              "    .colab-df-container {\n",
              "      display:flex;\n",
              "      flex-wrap:wrap;\n",
              "      gap: 12px;\n",
              "    }\n",
              "\n",
              "    .colab-df-convert {\n",
              "      background-color: #E8F0FE;\n",
              "      border: none;\n",
              "      border-radius: 50%;\n",
              "      cursor: pointer;\n",
              "      display: none;\n",
              "      fill: #1967D2;\n",
              "      height: 32px;\n",
              "      padding: 0 0 0 0;\n",
              "      width: 32px;\n",
              "    }\n",
              "\n",
              "    .colab-df-convert:hover {\n",
              "      background-color: #E2EBFA;\n",
              "      box-shadow: 0px 1px 2px rgba(60, 64, 67, 0.3), 0px 1px 3px 1px rgba(60, 64, 67, 0.15);\n",
              "      fill: #174EA6;\n",
              "    }\n",
              "\n",
              "    [theme=dark] .colab-df-convert {\n",
              "      background-color: #3B4455;\n",
              "      fill: #D2E3FC;\n",
              "    }\n",
              "\n",
              "    [theme=dark] .colab-df-convert:hover {\n",
              "      background-color: #434B5C;\n",
              "      box-shadow: 0px 1px 3px 1px rgba(0, 0, 0, 0.15);\n",
              "      filter: drop-shadow(0px 1px 2px rgba(0, 0, 0, 0.3));\n",
              "      fill: #FFFFFF;\n",
              "    }\n",
              "  </style>\n",
              "\n",
              "      <script>\n",
              "        const buttonEl =\n",
              "          document.querySelector('#df-f49428cb-a49b-4c15-a1cf-c4cdad32c75a button.colab-df-convert');\n",
              "        buttonEl.style.display =\n",
              "          google.colab.kernel.accessAllowed ? 'block' : 'none';\n",
              "\n",
              "        async function convertToInteractive(key) {\n",
              "          const element = document.querySelector('#df-f49428cb-a49b-4c15-a1cf-c4cdad32c75a');\n",
              "          const dataTable =\n",
              "            await google.colab.kernel.invokeFunction('convertToInteractive',\n",
              "                                                     [key], {});\n",
              "          if (!dataTable) return;\n",
              "\n",
              "          const docLinkHtml = 'Like what you see? Visit the ' +\n",
              "            '<a target=\"_blank\" href=https://colab.research.google.com/notebooks/data_table.ipynb>data table notebook</a>'\n",
              "            + ' to learn more about interactive tables.';\n",
              "          element.innerHTML = '';\n",
              "          dataTable['output_type'] = 'display_data';\n",
              "          await google.colab.output.renderOutput(dataTable, element);\n",
              "          const docLink = document.createElement('div');\n",
              "          docLink.innerHTML = docLinkHtml;\n",
              "          element.appendChild(docLink);\n",
              "        }\n",
              "      </script>\n",
              "    </div>\n",
              "  </div>\n",
              "  "
            ],
            "text/plain": [
              "                  EmployeeName  ... TotalPayBenefits\n",
              "0               NATHANIEL FORD  ...        567595.43\n",
              "1                 GARY JIMENEZ  ...        538909.28\n",
              "2               ALBERT PARDINI  ...        335279.91\n",
              "3            CHRISTOPHER CHONG  ...        332343.61\n",
              "4              PATRICK GARDNER  ...        326373.19\n",
              "...                        ...  ...              ...\n",
              "78773       Catheryn  Williams  ...        170030.16\n",
              "78774              Suan  Chang  ...        170030.11\n",
              "78775             Eric  Chiang  ...        170022.83\n",
              "78776               Alan  Lamb  ...        170010.19\n",
              "78777  Amalia  Barcena-Bosnich  ...              NaN\n",
              "\n",
              "[78778 rows x 4 columns]"
            ]
          },
          "metadata": {},
          "execution_count": 87
        }
      ],
      "source": [
        "sal_new=sal_new.loc[:,'EmployeeName':'TotalPayBenefits']\n",
        "sal_new"
      ]
    },
    {
      "cell_type": "markdown",
      "metadata": {
        "id": "UrGHg7dZNX6W"
      },
      "source": [
        "**Print out the names of the employees who earn more than min, but less than avg**"
      ]
    },
    {
      "cell_type": "code",
      "execution_count": 88,
      "metadata": {
        "id": "LaZA9u-gNX6X",
        "outputId": "858ba278-5dc4-4959-869f-03940065c231",
        "colab": {
          "base_uri": "https://localhost:8080/"
        }
      },
      "outputs": [
        {
          "output_type": "execute_result",
          "data": {
            "text/plain": [
              "10324    CHRISTOPHER KERN\n",
              "10325         DENNIS KWAN\n",
              "10326     JOSEFINA TOLOSA\n",
              "10327    JONATHAN STAPLES\n",
              "10328     ANDREW PHILLIPS\n",
              "               ...       \n",
              "72920    Charles Williams\n",
              "72921        John Carajan\n",
              "72922         John Draper\n",
              "72923        Cherise Wong\n",
              "72924        Donald Clark\n",
              "Name: EmployeeName, Length: 42600, dtype: object"
            ]
          },
          "metadata": {},
          "execution_count": 88
        }
      ],
      "source": [
        "salary[(salary.TotalPayBenefits>salary.TotalPayBenefits.min()) & \n",
        "       (salary.TotalPayBenefits<salary.TotalPayBenefits.mean())]['EmployeeName']"
      ]
    },
    {
      "cell_type": "code",
      "source": [
        ""
      ],
      "metadata": {
        "id": "h17k4fHDQjip"
      },
      "execution_count": null,
      "outputs": []
    }
  ],
  "metadata": {
    "anaconda-cloud": {},
    "kernelspec": {
      "display_name": "Python 3 (ipykernel)",
      "language": "python",
      "name": "python3"
    },
    "language_info": {
      "codemirror_mode": {
        "name": "ipython",
        "version": 3
      },
      "file_extension": ".py",
      "mimetype": "text/x-python",
      "name": "python",
      "nbconvert_exporter": "python",
      "pygments_lexer": "ipython3",
      "version": "3.8.8"
    },
    "colab": {
      "name": "DAwPY Assigment 1.ipynb",
      "provenance": [],
      "collapsed_sections": []
    }
  },
  "nbformat": 4,
  "nbformat_minor": 0
}