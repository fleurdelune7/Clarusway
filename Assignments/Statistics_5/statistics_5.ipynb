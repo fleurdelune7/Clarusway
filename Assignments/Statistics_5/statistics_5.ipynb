{
  nbformat 4,
  nbformat_minor 0,
  metadata {
    colab {
      name Statistics Assignment - 5 (Hypothesis Test).ipynb.ipynb,
      provenance []
    },
    kernelspec {
      name python3,
      display_name Python 3
    },
    language_info {
      name python
    }
  },
  cells [
    {
      cell_type code,
      execution_count 1,
      metadata {
        id dBskQs1O2xrC
      },
      outputs [],
      source [
        import numpy as npn,
        import pandas as pdn,
        from scipy import stats
      ]
    },
    {
      cell_type markdown,
      source [
        EXERCISE 1. The hourly wages in a particular industry are normally distributed with mean 2.50. A company in this industry employs 40 workers, paying them an average of $12.20 per hour. Can this company be accused of paying substandard wages Use an α = .01 level test. (Wackerly, Ex.10.18)n,
        n,
        CHECK statistic -2.5298221281347035, pvalue= 0.005706018193000826
      ],
      metadata {
        id fao0Dqyc3OKk
      }
    },
    {
      cell_type code,
      source [
        # H0  Mu = 13.20n,
        # Ha  Mu  13.20
      ],
      metadata {
        id UaJu0iVz3NKA
      },
      execution_count 2,
      outputs []
    },
    {
      cell_type code,
      source [
        z_test = (12.20 - 13.20)  (2.5  np.sqrt(40))n,
        z_test
      ],
      metadata {
        colab {
          base_uri httpslocalhost8080
        },
        id FtEoHuns3SKt,
        outputId f18db654-9189-479b-b0ad-7e4a0248b466
      },
      execution_count 3,
      outputs [
        {
          output_type execute_result,
          data {
            textplain [
              -2.5298221281347035
            ]
          },
          metadata {},
          execution_count 3
        }
      ]
    },
    {
      cell_type code,
      source [
        p_value = stats.norm.cdf(z_test)n,
        p_value
      ],
      metadata {
        colab {
          base_uri httpslocalhost8080
        },
        id q88Gog9l3WI6,
        outputId 918f27e7-8c33-4d75-e41b-17a2c5e9d3f1
      },
      execution_count 4,
      outputs [
        {
          output_type execute_result,
          data {
            textplain [
              0.005706018193000826
            ]
          },
          metadata {},
          execution_count 4
        }
      ]
    },
    {
      cell_type markdown,
      source [
        Fail to reject H0 where p-value  α = .01 level, it means we could not accuse of the company for substandard wagesn,
        n,
        EXERCISE 2.Shear strength measurements derived from unconfined compression tests for two types of soils gave the results shown in the following document (measurements in tons per square foot). Do the soils appear to differ with respect to average shear strength, at the 1% significance level CHECK statistic 5.1681473319343345, pvalue= 2.593228732352821e-06
      ],
      metadata {
        id OfSTaYg13aOD
      }
    },
    {
      cell_type code,
      source [
        df = pd.read_excel('contentsoil.xlsx')
      ],
      metadata {
        id VQXtgCg13X7n
      },
      execution_count 5,
      outputs []
    },
    {
      cell_type code,
      source [
        df.isna().sum()
      ],
      metadata {
        colab {
          base_uri httpslocalhost8080
        },
        id EhTGh9Iw3oz5,
        outputId fe7c995b-8f7f-4861-8731-ee195da4e275
      },
      execution_count 6,
      outputs [
        {
          output_type execute_result,
          data {
            textplain [
              Soil1    5n,
              Soil2    0n,
              dtype int64
            ]
          },
          metadata {},
          execution_count 6
        }
      ]
    },
    {
      cell_type code,
      source [
        # H0  mu1 = mu2n,
        # Ha  mu1 != mu2 
      ],
      metadata {
        id dwaACyKI3qy9
      },
      execution_count 7,
      outputs []
    },
    {
      cell_type code,
      source [
        leveneTest = stats.levene(df['Soil1'], df['Soil2'], center='trimmed', proportiontocut=0.15)n,
        leveneTest
      ],
      metadata {
        colab {
          base_uri httpslocalhost8080
        },
        id FZAyZ1793sTZ,
        outputId 5b40d6e6-2ef5-42ee-bdfa-20365051c96d
      },
      execution_count 8,
      outputs [
        {
          output_type execute_result,
          data {
            textplain [
              LeveneResult(statistic=0.7012695658339887, pvalue=0.40650775695385555)
            ]
          },
          metadata {},
          execution_count 8
        }
      ]
    },
    {
      cell_type markdown,
      source [
        As per the levene test, p-value is greater than alpha and we should accept the variance is True
      ],
      metadata {
        id j59V9-j83vML
      }
    },
    {
      cell_type code,
      source [
        # AVG Soil1n,
        df.Soil1.mean()
      ],
      metadata {
        colab {
          base_uri httpslocalhost8080
        },
        id JXFqmHWJ3tkN,
        outputId f41527db-ac5d-4181-9d80-0e361e641d92
      },
      execution_count 9,
      outputs [
        {
          output_type execute_result,
          data {
            textplain [
              1.6918
            ]
          },
          metadata {},
          execution_count 9
        }
      ]
    },
    {
      cell_type code,
      source [
        # AVG Soil2n,
        df.Soil2.mean()
      ],
      metadata {
        colab {
          base_uri httpslocalhost8080
        },
        id sa1NnlbC3x2L,
        outputId d6ac70f3-6abe-4918-b880-003be6859e8e
      },
      execution_count 10,
      outputs [
        {
          output_type execute_result,
          data {
            textplain [
              1.4171142857142855
            ]
          },
          metadata {},
          execution_count 10
        }
      ]
    },
    {
      cell_type markdown,
      source [
        Calculate the T-test for the means of two independent samples of score
      ],
      metadata {
        id 0B3MevgU31bu
      }
    },
    {
      cell_type code,
      source [
        indTest = stats.ttest_ind(df.Soil1,df.Soil2,equal_var=True, nan_policy='omit')n,
        indTest
      ],
      metadata {
        colab {
          base_uri httpslocalhost8080
        },
        id ax2CAdeG3z0Z,
        outputId e8ba946d-a64f-4440-b9d0-e98c8d91086f
      },
      execution_count 11,
      outputs [
        {
          output_type execute_result,
          data {
            textplain [
              Ttest_indResult(statistic=5.1681473319343345, pvalue=2.5932287323528147e-06)
            ]
          },
          metadata {},
          execution_count 11
        }
      ]
    },
    {
      cell_type code,
      source [
        indTest.pvalue
      ],
      metadata {
        colab {
          base_uri httpslocalhost8080
        },
        id lRq7qYIJ33sJ,
        outputId 0d252ceb-393a-46f4-9bc6-3cf34a2a9a90
      },
      execution_count 12,
      outputs [
        {
          output_type execute_result,
          data {
            textplain [
              2.5932287323528147e-06
            ]
          },
          metadata {},
          execution_count 12
        }
      ]
    },
    {
      cell_type code,
      source [
        # Compare p-value and alphan,
        alpha = 0.01n,
        n,
        if indTest.pvalue  alphan,
            print(Reject the null)n,
        elsen,
            print(Fail to reject the null)
      ],
      metadata {
        colab {
          base_uri httpslocalhost8080
        },
        id edJfF-II35B3,
        outputId a1ca039a-14c4-4293-92df-25ad8a69a19c
      },
      execution_count 13,
      outputs [
        {
          output_type stream,
          name stdout,
          text [
            Reject the nulln
          ]
        }
      ]
    },
    {
      cell_type markdown,
      source [
        n,
        EXERCISE 3. The following dataset is based on data provided by the World Bank (httpsdatacatalog.worldbank.orgdataseteducation-statistics). World Bank Edstats.  2015 PISA Test Datasetn,
        n,
        Get descriptive statistics (the central tendency, dispersion and shape of a dataset’s distribution) for each continent group (AS, EU, AF, NA, SA, OC).n,
        Determine whether there is any difference (on the average) for the math scores among European (EU) and Asian (AS) countries (assume normality and equal variances). Draw side-by-side box plots.n,
        CHECK statistic=0.870055317967983, pvalue=0.38826888111307345
      ],
      metadata {
        id HG7-Fbyl39tN
      }
    },
    {
      cell_type code,
      source [
        df = pd.read_excel('content2015 PISA Test.xlsx')n,
        df
      ],
      metadata {
        colab {
          base_uri httpslocalhost8080,
          height 424
        },
        id Er6PLNqT363v,
        outputId 3a642cf5-f151-4c4e-9934-7559fd74298e
      },
      execution_count 14,
      outputs [
        {
          output_type execute_result,
          data {
            texthtml [
              n,
                div id=df-6bb36165-5a81-4242-a3e4-1f63611ef8a9n,
                  div class=colab-df-containern,
                    divn,
              style scopedn,
                  .dataframe tbody tr thonly-of-type {n,
                      vertical-align middle;n,
                  }n,
              n,
                  .dataframe tbody tr th {n,
                      vertical-align top;n,
                  }n,
              n,
                  .dataframe thead th {n,
                      text-align right;n,
                  }n,
              stylen,
              table border=1 class=dataframen,
                theadn,
                  tr style=text-align right;n,
                    ththn,
                    thCountry Codethn,
                    thContinent_Codethn,
                    thinternet_users_per_100thn,
                    thMaththn,
                    thReadingthn,
                    thSciencethn,
                  trn,
                theadn,
                tbodyn,
                  trn,
                    th0thn,
                    tdALBtdn,
                    tdEUtdn,
                    td63.252933tdn,
                    td413.1570tdn,
                    td405.2588tdn,
                    td427.2250tdn,
                  trn,
                  trn,
                    th1thn,
                    tdAREtdn,
                    tdAStdn,
                    td90.500000tdn,
                    td427.4827tdn,
                    td433.5423tdn,
                    td436.7311tdn,
                  trn,
                  trn,
                    th2thn,
                    tdARGtdn,
                    tdSAtdn,
                    td68.043064tdn,
                    td409.0333tdn,
                    td425.3031tdn,
                    td432.2262tdn,
                  trn,
                  trn,
                    th3thn,
                    tdAUStdn,
                    tdOCtdn,
                    td84.560519tdn,
                    td493.8962tdn,
                    td502.9006tdn,
                    td509.9939tdn,
                  trn,
                  trn,
                    th4thn,
                    tdAUTtdn,
                    tdEUtdn,
                    td83.940142tdn,
                    td496.7423tdn,
                    td484.8656tdn,
                    td495.0375tdn,
                  trn,
                  trn,
                    th...thn,
                    td...tdn,
                    td...tdn,
                    td...tdn,
                    td...tdn,
                    td...tdn,
                    td...tdn,
                  trn,
                  trn,
                    th65thn,
                    tdTUNtdn,
                    tdAFtdn,
                    td48.519836tdn,
                    td366.8180tdn,
                    td361.0555tdn,
                    td386.4034tdn,
                  trn,
                  trn,
                    th66thn,
                    tdTURtdn,
                    tdEUtdn,
                    td53.744979tdn,
                    td420.4540tdn,
                    td428.3351tdn,
                    td425.4895tdn,
                  trn,
                  trn,
                    th67thn,
                    tdURYtdn,
                    tdSAtdn,
                    td64.600000tdn,
                    td417.9919tdn,
                    td436.5721tdn,
                    td435.3630tdn,
                  trn,
                  trn,
                    th68thn,
                    tdUSAtdn,
                    tdNaNtdn,
                    td74.554202tdn,
                    td469.6285tdn,
                    td496.9351tdn,
                    td496.2424tdn,
                  trn,
                  trn,
                    th69thn,
                    tdVNMtdn,
                    tdAStdn,
                    td43.500000tdn,
                    td494.5183tdn,
                    td486.7738tdn,
                    td524.6445tdn,
                  trn,
                tbodyn,
              tablen,
              p70 rows × 6 columnspn,
              divn,
                    button class=colab-df-convert onclick=convertToInteractive('df-6bb36165-5a81-4242-a3e4-1f63611ef8a9')n,
                            title=Convert this dataframe to an interactive table.n,
                            style=displaynone;n,
                      n,
                svg xmlns=httpwww.w3.org2000svg height=24pxviewBox=0 0 24 24n,
                     width=24pxn,
                  path d=M0 0h24v24H0V0z fill=nonen,
                  path d=M18.56 5.44l.94 2.06.94-2.06 2.06-.94-2.06-.94-.94-2.06-.94 2.06-2.06.94zm-11 1L8.5 8.5l.94-2.06 2.06-.94-2.06-.94L8.5 2.5l-.94 2.06-2.06.94zm10 10l.94 2.06.94-2.06 2.06-.94-2.06-.94-.94-2.06-.94 2.06-2.06.94zpath d=M17.41 7.96l-1.37-1.37c-.4-.4-.92-.59-1.43-.59-.52 0-1.04.2-1.43.59L10.3 9.45l-7.72 7.72c-.78.78-.78 2.05 0 2.83L4 21.41c.39.39.9.59 1.41.59.51 0 1.02-.2 1.41-.59l7.78-7.78 2.81-2.81c.8-.78.8-2.07 0-2.86zM5.41 20L4 18.59l7.72-7.72 1.47 1.35L5.41 20zn,
                svgn,
                    buttonn,
                    n,
                stylen,
                  .colab-df-container {n,
                    displayflex;n,
                    flex-wrapwrap;n,
                    gap 12px;n,
                  }n,
              n,
                  .colab-df-convert {n,
                    background-color #E8F0FE;n,
                    border none;n,
                    border-radius 50%;n,
                    cursor pointer;n,
                    display none;n,
                    fill #1967D2;n,
                    height 32px;n,
                    padding 0 0 0 0;n,
                    width 32px;n,
                  }n,
              n,
                  .colab-df-converthover {n,
                    background-color #E2EBFA;n,
                    box-shadow 0px 1px 2px rgba(60, 64, 67, 0.3), 0px 1px 3px 1px rgba(60, 64, 67, 0.15);n,
                    fill #174EA6;n,
                  }n,
              n,
                  [theme=dark] .colab-df-convert {n,
                    background-color #3B4455;n,
                    fill #D2E3FC;n,
                  }n,
              n,
                  [theme=dark] .colab-df-converthover {n,
                    background-color #434B5C;n,
                    box-shadow 0px 1px 3px 1px rgba(0, 0, 0, 0.15);n,
                    filter drop-shadow(0px 1px 2px rgba(0, 0, 0, 0.3));n,
                    fill #FFFFFF;n,
                  }n,
                stylen,
              n,
                    scriptn,
                      const buttonEl =n,
                        document.querySelector('#df-6bb36165-5a81-4242-a3e4-1f63611ef8a9 button.colab-df-convert');n,
                      buttonEl.style.display =n,
                        google.colab.kernel.accessAllowed  'block'  'none';n,
              n,
                      async function convertToInteractive(key) {n,
                        const element = document.querySelector('#df-6bb36165-5a81-4242-a3e4-1f63611ef8a9');n,
                        const dataTable =n,
                          await google.colab.kernel.invokeFunction('convertToInteractive',n,
                                                                   [key], {});n,
                        if (!dataTable) return;n,
              n,
                        const docLinkHtml = 'Like what you see Visit the ' +n,
                          'a target=_blank href=httpscolab.research.google.comnotebooksdata_table.ipynbdata table notebooka'n,
                          + ' to learn more about interactive tables.';n,
                        element.innerHTML = '';n,
                        dataTable['output_type'] = 'display_data';n,
                        await google.colab.output.renderOutput(dataTable, element);n,
                        const docLink = document.createElement('div');n,
                        docLink.innerHTML = docLinkHtml;n,
                        element.appendChild(docLink);n,
                      }n,
                    scriptn,
                  divn,
                divn,
                
            ],
            textplain [
                 Country Code Continent_Code  ...   Reading   Sciencen,
              0           ALB             EU  ...  405.2588  427.2250n,
              1           ARE             AS  ...  433.5423  436.7311n,
              2           ARG             SA  ...  425.3031  432.2262n,
              3           AUS             OC  ...  502.9006  509.9939n,
              4           AUT             EU  ...  484.8656  495.0375n,
              ..          ...            ...  ...       ...       ...n,
              65          TUN             AF  ...  361.0555  386.4034n,
              66          TUR             EU  ...  428.3351  425.4895n,
              67          URY             SA  ...  436.5721  435.3630n,
              68          USA            NaN  ...  496.9351  496.2424n,
              69          VNM             AS  ...  486.7738  524.6445n,
              n,
              [70 rows x 6 columns]
            ]
          },
          metadata {},
          execution_count 14
        }
      ]
    },
    {
      cell_type code,
      source [
        df.isna().sum()
      ],
      metadata {
        colab {
          base_uri httpslocalhost8080
        },
        id 41LfPDyk4VmQ,
        outputId f05373a6-0ad2-41f0-b857-2fe97a60f1da
      },
      execution_count 15,
      outputs [
        {
          output_type execute_result,
          data {
            textplain [
              Country Code              0n,
              Continent_Code            5n,
              internet_users_per_100    0n,
              Math                      0n,
              Reading                   0n,
              Science                   0n,
              dtype int64
            ]
          },
          metadata {},
          execution_count 15
        }
      ]
    },
    {
      cell_type code,
      source [
        df[df['Continent_Code'].isna()]
      ],
      metadata {
        colab {
          base_uri httpslocalhost8080,
          height 206
        },
        id hMInSLOr4YQy,
        outputId f3ca55f5-713a-47f2-bbfc-eb396065def4
      },
      execution_count 16,
      outputs [
        {
          output_type execute_result,
          data {
            texthtml [
              n,
                div id=df-0c9fb041-3ce4-4921-b335-6bc0f9b6c25an,
                  div class=colab-df-containern,
                    divn,
              style scopedn,
                  .dataframe tbody tr thonly-of-type {n,
                      vertical-align middle;n,
                  }n,
              n,
                  .dataframe tbody tr th {n,
                      vertical-align top;n,
                  }n,
              n,
                  .dataframe thead th {n,
                      text-align right;n,
                  }n,
              stylen,
              table border=1 class=dataframen,
                theadn,
                  tr style=text-align right;n,
                    ththn,
                    thCountry Codethn,
                    thContinent_Codethn,
                    thinternet_users_per_100thn,
                    thMaththn,
                    thReadingthn,
                    thSciencethn,
                  trn,
                theadn,
                tbodyn,
                  trn,
                    th8thn,
                    tdCANtdn,
                    tdNaNtdn,
                    td88.470000tdn,
                    td515.6474tdn,
                    td526.6678tdn,
                    td527.7047tdn,
                  trn,
                  trn,
                    th13thn,
                    tdCRItdn,
                    tdNaNtdn,
                    td59.762950tdn,
                    td400.2534tdn,
                    td427.4875tdn,
                    td419.6080tdn,
                  trn,
                  trn,
                    th18thn,
                    tdDOMtdn,
                    tdNaNtdn,
                    td54.215766tdn,
                    td327.7020tdn,
                    td357.7377tdn,
                    td331.6388tdn,
                  trn,
                  trn,
                    th45thn,
                    tdMEXtdn,
                    tdNaNtdn,
                    td57.431043tdn,
                    td408.0235tdn,
                    td423.2765tdn,
                    td415.7099tdn,
                  trn,
                  trn,
                    th68thn,
                    tdUSAtdn,
                    tdNaNtdn,
                    td74.554202tdn,
                    td469.6285tdn,
                    td496.9351tdn,
                    td496.2424tdn,
                  trn,
                tbodyn,
              tablen,
              divn,
                    button class=colab-df-convert onclick=convertToInteractive('df-0c9fb041-3ce4-4921-b335-6bc0f9b6c25a')n,
                            title=Convert this dataframe to an interactive table.n,
                            style=displaynone;n,
                      n,
                svg xmlns=httpwww.w3.org2000svg height=24pxviewBox=0 0 24 24n,
                     width=24pxn,
                  path d=M0 0h24v24H0V0z fill=nonen,
                  path d=M18.56 5.44l.94 2.06.94-2.06 2.06-.94-2.06-.94-.94-2.06-.94 2.06-2.06.94zm-11 1L8.5 8.5l.94-2.06 2.06-.94-2.06-.94L8.5 2.5l-.94 2.06-2.06.94zm10 10l.94 2.06.94-2.06 2.06-.94-2.06-.94-.94-2.06-.94 2.06-2.06.94zpath d=M17.41 7.96l-1.37-1.37c-.4-.4-.92-.59-1.43-.59-.52 0-1.04.2-1.43.59L10.3 9.45l-7.72 7.72c-.78.78-.78 2.05 0 2.83L4 21.41c.39.39.9.59 1.41.59.51 0 1.02-.2 1.41-.59l7.78-7.78 2.81-2.81c.8-.78.8-2.07 0-2.86zM5.41 20L4 18.59l7.72-7.72 1.47 1.35L5.41 20zn,
                svgn,
                    buttonn,
                    n,
                stylen,
                  .colab-df-container {n,
                    displayflex;n,
                    flex-wrapwrap;n,
                    gap 12px;n,
                  }n,
              n,
                  .colab-df-convert {n,
                    background-color #E8F0FE;n,
                    border none;n,
                    border-radius 50%;n,
                    cursor pointer;n,
                    display none;n,
                    fill #1967D2;n,
                    height 32px;n,
                    padding 0 0 0 0;n,
                    width 32px;n,
                  }n,
              n,
                  .colab-df-converthover {n,
                    background-color #E2EBFA;n,
                    box-shadow 0px 1px 2px rgba(60, 64, 67, 0.3), 0px 1px 3px 1px rgba(60, 64, 67, 0.15);n,
                    fill #174EA6;n,
                  }n,
              n,
                  [theme=dark] .colab-df-convert {n,
                    background-color #3B4455;n,
                    fill #D2E3FC;n,
                  }n,
              n,
                  [theme=dark] .colab-df-converthover {n,
                    background-color #434B5C;n,
                    box-shadow 0px 1px 3px 1px rgba(0, 0, 0, 0.15);n,
                    filter drop-shadow(0px 1px 2px rgba(0, 0, 0, 0.3));n,
                    fill #FFFFFF;n,
                  }n,
                stylen,
              n,
                    scriptn,
                      const buttonEl =n,
                        document.querySelector('#df-0c9fb041-3ce4-4921-b335-6bc0f9b6c25a button.colab-df-convert');n,
                      buttonEl.style.display =n,
                        google.colab.kernel.accessAllowed  'block'  'none';n,
              n,
                      async function convertToInteractive(key) {n,
                        const element = document.querySelector('#df-0c9fb041-3ce4-4921-b335-6bc0f9b6c25a');n,
                        const dataTable =n,
                          await google.colab.kernel.invokeFunction('convertToInteractive',n,
                                                                   [key], {});n,
                        if (!dataTable) return;n,
              n,
                        const docLinkHtml = 'Like what you see Visit the ' +n,
                          'a target=_blank href=httpscolab.research.google.comnotebooksdata_table.ipynbdata table notebooka'n,
                          + ' to learn more about interactive tables.';n,
                        element.innerHTML = '';n,
                        dataTable['output_type'] = 'display_data';n,
                        await google.colab.output.renderOutput(dataTable, element);n,
                        const docLink = document.createElement('div');n,
                        docLink.innerHTML = docLinkHtml;n,
                        element.appendChild(docLink);n,
                      }n,
                    scriptn,
                  divn,
                divn,
                
            ],
            textplain [
                 Country Code Continent_Code  ...   Reading   Sciencen,
              8           CAN            NaN  ...  526.6678  527.7047n,
              13          CRI            NaN  ...  427.4875  419.6080n,
              18          DOM            NaN  ...  357.7377  331.6388n,
              45          MEX            NaN  ...  423.2765  415.7099n,
              68          USA            NaN  ...  496.9351  496.2424n,
              n,
              [5 rows x 6 columns]
            ]
          },
          metadata {},
          execution_count 16
        }
      ]
    },
    {
      cell_type code,
      source [
        df.groupby('Continent_Code')[['internet_users_per_100','Math','Reading','Science']].agg(['mean','std',stats.skew,'count'])
      ],
      metadata {
        colab {
          base_uri httpslocalhost8080,
          height 269
        },
        id 5h9eq7ob4Zz9,
        outputId 6a16d4db-6e05-4ffb-e727-d0d90f9f61f1
      },
      execution_count 17,
      outputs [
        {
          output_type execute_result,
          data {
            texthtml [
              n,
                div id=df-c2e8a1a6-fe75-4995-9888-d19be0796f33n,
                  div class=colab-df-containern,
                    divn,
              style scopedn,
                  .dataframe tbody tr thonly-of-type {n,
                      vertical-align middle;n,
                  }n,
              n,
                  .dataframe tbody tr th {n,
                      vertical-align top;n,
                  }n,
              n,
                  .dataframe thead tr th {n,
                      text-align left;n,
                  }n,
              n,
                  .dataframe thead trlast-of-type th {n,
                      text-align right;n,
                  }n,
              stylen,
              table border=1 class=dataframen,
                theadn,
                  trn,
                    ththn,
                    th colspan=4 halign=leftinternet_users_per_100thn,
                    th colspan=4 halign=leftMaththn,
                    th colspan=4 halign=leftReadingthn,
                    th colspan=4 halign=leftSciencethn,
                  trn,
                  trn,
                    ththn,
                    thmeanthn,
                    thstdthn,
                    thskewthn,
                    thcountthn,
                    thmeanthn,
                    thstdthn,
                    thskewthn,
                    thcountthn,
                    thmeanthn,
                    thstdthn,
                    thskewthn,
                    thcountthn,
                    thmeanthn,
                    thstdthn,
                    thskewthn,
                    thcountthn,
                  trn,
                  trn,
                    thContinent_Codethn,
                    ththn,
                    ththn,
                    ththn,
                    ththn,
                    ththn,
                    ththn,
                    ththn,
                    ththn,
                    ththn,
                    ththn,
                    ththn,
                    ththn,
                    ththn,
                    ththn,
                    ththn,
                    ththn,
                  trn,
                theadn,
                tbodyn,
                  trn,
                    thAFthn,
                    td43.359918tdn,
                    td7.297226tdn,
                    td-2.068816e-15tdn,
                    td2tdn,
                    td363.212100tdn,
                    td5.099513tdn,
                    td2.364143e-14tdn,
                    td2tdn,
                    td355.457400tdn,
                    td7.916909tdn,
                    td0.000000tdn,
                    td2tdn,
                    td381.074250tdn,
                    td7.536556tdn,
                    td-1.596229e-14tdn,
                    td2tdn,
                  trn,
                  trn,
                    thASthn,
                    td68.455613tdn,
                    td21.086060tdn,
                    td-7.050774e-01tdn,
                    td17tdn,
                    td466.216647tdn,
                    td64.356490tdn,
                    td1.315655e-01tdn,
                    td17tdn,
                    td454.059682tdn,
                    td57.048962tdn,
                    td-0.090195tdn,
                    td17tdn,
                    td467.945847tdn,
                    td56.671371tdn,
                    td1.235206e-01tdn,
                    td17tdn,
                  trn,
                  trn,
                    thEUthn,
                    td77.274888tdn,
                    td12.425773tdn,
                    td-4.732765e-02tdn,
                    td37tdn,
                    td477.981449tdn,
                    td35.150403tdn,
                    td-1.194421e+00tdn,
                    td37tdn,
                    td476.164608tdn,
                    td37.720545tdn,
                    td-1.271092tdn,
                    td37tdn,
                    td478.299381tdn,
                    td34.450616tdn,
                    td-8.452568e-01tdn,
                    td37tdn,
                  trn,
                  trn,
                    thOCthn,
                    td86.391704tdn,
                    td2.589686tdn,
                    td0.000000e+00tdn,
                    td2tdn,
                    td494.559750tdn,
                    td0.938401tdn,
                    td0.000000e+00tdn,
                    td2tdn,
                    td506.085650tdn,
                    td4.504341tdn,
                    td0.000000tdn,
                    td2tdn,
                    td511.648700tdn,
                    td2.340241tdn,
                    td5.164690e-14tdn,
                    td2tdn,
                  trn,
                  trn,
                    thSAthn,
                    td60.180494tdn,
                    td9.772455tdn,
                    td-1.133557e+00tdn,
                    td7tdn,
                    td402.887700tdn,
                    td18.128894tdn,
                    td-2.872015e-01tdn,
                    td7tdn,
                    td425.359229tdn,
                    td19.709688tdn,
                    td0.251128tdn,
                    td7tdn,
                    td421.747186tdn,
                    td18.470319tdn,
                    td-1.597585e-01tdn,
                    td7tdn,
                  trn,
                tbodyn,
              tablen,
              divn,
                    button class=colab-df-convert onclick=convertToInteractive('df-c2e8a1a6-fe75-4995-9888-d19be0796f33')n,
                            title=Convert this dataframe to an interactive table.n,
                            style=displaynone;n,
                      n,
                svg xmlns=httpwww.w3.org2000svg height=24pxviewBox=0 0 24 24n,
                     width=24pxn,
                  path d=M0 0h24v24H0V0z fill=nonen,
                  path d=M18.56 5.44l.94 2.06.94-2.06 2.06-.94-2.06-.94-.94-2.06-.94 2.06-2.06.94zm-11 1L8.5 8.5l.94-2.06 2.06-.94-2.06-.94L8.5 2.5l-.94 2.06-2.06.94zm10 10l.94 2.06.94-2.06 2.06-.94-2.06-.94-.94-2.06-.94 2.06-2.06.94zpath d=M17.41 7.96l-1.37-1.37c-.4-.4-.92-.59-1.43-.59-.52 0-1.04.2-1.43.59L10.3 9.45l-7.72 7.72c-.78.78-.78 2.05 0 2.83L4 21.41c.39.39.9.59 1.41.59.51 0 1.02-.2 1.41-.59l7.78-7.78 2.81-2.81c.8-.78.8-2.07 0-2.86zM5.41 20L4 18.59l7.72-7.72 1.47 1.35L5.41 20zn,
                svgn,
                    buttonn,
                    n,
                stylen,
                  .colab-df-container {n,
                    displayflex;n,
                    flex-wrapwrap;n,
                    gap 12px;n,
                  }n,
              n,
                  .colab-df-convert {n,
                    background-color #E8F0FE;n,
                    border none;n,
                    border-radius 50%;n,
                    cursor pointer;n,
                    display none;n,
                    fill #1967D2;n,
                    height 32px;n,
                    padding 0 0 0 0;n,
                    width 32px;n,
                  }n,
              n,
                  .colab-df-converthover {n,
                    background-color #E2EBFA;n,
                    box-shadow 0px 1px 2px rgba(60, 64, 67, 0.3), 0px 1px 3px 1px rgba(60, 64, 67, 0.15);n,
                    fill #174EA6;n,
                  }n,
              n,
                  [theme=dark] .colab-df-convert {n,
                    background-color #3B4455;n,
                    fill #D2E3FC;n,
                  }n,
              n,
                  [theme=dark] .colab-df-converthover {n,
                    background-color #434B5C;n,
                    box-shadow 0px 1px 3px 1px rgba(0, 0, 0, 0.15);n,
                    filter drop-shadow(0px 1px 2px rgba(0, 0, 0, 0.3));n,
                    fill #FFFFFF;n,
                  }n,
                stylen,
              n,
                    scriptn,
                      const buttonEl =n,
                        document.querySelector('#df-c2e8a1a6-fe75-4995-9888-d19be0796f33 button.colab-df-convert');n,
                      buttonEl.style.display =n,
                        google.colab.kernel.accessAllowed  'block'  'none';n,
              n,
                      async function convertToInteractive(key) {n,
                        const element = document.querySelector('#df-c2e8a1a6-fe75-4995-9888-d19be0796f33');n,
                        const dataTable =n,
                          await google.colab.kernel.invokeFunction('convertToInteractive',n,
                                                                   [key], {});n,
                        if (!dataTable) return;n,
              n,
                        const docLinkHtml = 'Like what you see Visit the ' +n,
                          'a target=_blank href=httpscolab.research.google.comnotebooksdata_table.ipynbdata table notebooka'n,
                          + ' to learn more about interactive tables.';n,
                        element.innerHTML = '';n,
                        dataTable['output_type'] = 'display_data';n,
                        await google.colab.output.renderOutput(dataTable, element);n,
                        const docLink = document.createElement('div');n,
                        docLink.innerHTML = docLinkHtml;n,
                        element.appendChild(docLink);n,
                      }n,
                    scriptn,
                  divn,
                divn,
                
            ],
            textplain [
                             internet_users_per_100             ...       Science      n,
                                               mean        std  ...          skew countn,
              Continent_Code                                    ...                    n,
              AF                          43.359918   7.297226  ... -1.596229e-14     2n,
              AS                          68.455613  21.086060  ...  1.235206e-01    17n,
              EU                          77.274888  12.425773  ... -8.452568e-01    37n,
              OC                          86.391704   2.589686  ...  5.164690e-14     2n,
              SA                          60.180494   9.772455  ... -1.597585e-01     7n,
              n,
              [5 rows x 16 columns]
            ]
          },
          metadata {},
          execution_count 17
        }
      ]
    },
    {
      cell_type code,
      source [
        import seaborn as snsn,
        import matplotlib.pyplot as plt
      ],
      metadata {
        id I6oEhTJL4bjm
      },
      execution_count 18,
      outputs []
    },
    {
      cell_type code,
      source [
        sns.set(rc={'figure.figsize'(8,6)})n,
        data = [df.loc[df['Continent_Code'] == 'EU','Math'], df.loc[df['Continent_Code'] == 'AS','Math']]n,
        sns.boxplot(data=data)n,
        plt.xticks(ticks=[0,1],labels=['EU', 'AS'])n,
        plt.ylabel('Math');
      ],
      metadata {
        colab {
          base_uri httpslocalhost8080,
          height 377
        },
        id 6qXw4mj04dF9,
        outputId 20f87907-7d0b-469f-9771-0001b4dc750f
      },
      execution_count 19,
      outputs [
        {
          output_type display_data,
          data {
            imagepng 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,
            textplain [
              Figure size 576x432 with 1 Axes
            ]
          },
          metadata {}
        }
      ]
    },
    {
      cell_type code,
      source [
        # H0  MuEU = MuASn,
        # Ha  MuEU != MuAS
      ],
      metadata {
        id HZz58eWx4eem
      },
      execution_count 20,
      outputs []
    },
    {
      cell_type code,
      source [
        leveneTest = stats.levene(df.loc[df['Continent_Code'] == 'EU','Math'], df.loc[df['Continent_Code'] == 'AS','Math'])n,
        leveneTest
      ],
      metadata {
        colab {
          base_uri httpslocalhost8080
        },
        id JycqHASl4gY2,
        outputId cb201b92-333a-4835-d69a-bed6c3b51a88
      },
      execution_count 21,
      outputs [
        {
          output_type execute_result,
          data {
            textplain [
              LeveneResult(statistic=14.300030628780679, pvalue=0.0004037413184451079)
            ]
          },
          metadata {},
          execution_count 21
        }
      ]
    },
    {
      cell_type markdown,
      source [
        Pvalue is less than alpha, variance will be accepted as False
      ],
      metadata {
        id eiR1LbYD4jhn
      }
    },
    {
      cell_type code,
      source [
        indTest = stats.ttest_ind(df.loc[df['Continent_Code'] == 'EU','Math'], df.loc[df['Continent_Code'] == 'AS','Math'], equal_var=False, nan_policy='omit')n,
        indTest
      ],
      metadata {
        colab {
          base_uri httpslocalhost8080
        },
        id f9HrIYpp4iRW,
        outputId eab09334-ab76-4e5a-9b38-4396f03bfea8
      },
      execution_count 22,
      outputs [
        {
          output_type execute_result,
          data {
            textplain [
              Ttest_indResult(statistic=0.7068451468277963, pvalue=0.4876143690111763)
            ]
          },
          metadata {},
          execution_count 22
        }
      ]
    },
    {
      cell_type code,
      source [
        # Decisionn,
        alpha = 0.05n,
        n,
        if indTest.pvalue  alphan,
            print(Reject the null)n,
        elsen,
            print(Fail to reject the null)
      ],
      metadata {
        colab {
          base_uri httpslocalhost8080
        },
        id Xp4b7SdK4l7S,
        outputId a9073f21-3414-4e47-ec0d-94f205f99595
      },
      execution_count 23,
      outputs [
        {
          output_type stream,
          name stdout,
          text [
            Fail to reject the nulln
          ]
        }
      ]
    },
    {
      cell_type markdown,
      source [
        EXERCISE 4.The sample dataset has placement test scores (out of 100 points) for four subject areas English, Reading, Math, and Writing. Students in the sample completed all 4 placement tests when they enrolled in the university. Suppose we are particularly interested in the English and Math sections, and want to determine whether students tended to score higher on their English or Math test, on average. We could use a paired t test to test if there was a significant difference in the average of the two tests.n,
        n,
        Sample Dataset 2014n,
        n,
        CHECK statistic=36.312568981719856, pvalue=3.0710987192210606e-128
      ],
      metadata {
        id qlGquByT4yoC
      }
    },
    {
      cell_type code,
      source [
        df = pd.read_excel('contentstudents_2014.xlsx')n,
        df
      ],
      metadata {
        colab {
          base_uri httpslocalhost8080,
          height 589
        },
        id PAPGhOXI4oNW,
        outputId 86313da0-145e-42f3-e22a-d31c3c1878ba
      },
      execution_count 24,
      outputs [
        {
          output_type execute_result,
          data {
            texthtml [
              n,
                div id=df-54ec02ec-c8ce-4217-9289-da87629f970dn,
                  div class=colab-df-containern,
                    divn,
              style scopedn,
                  .dataframe tbody tr thonly-of-type {n,
                      vertical-align middle;n,
                  }n,
              n,
                  .dataframe tbody tr th {n,
                      vertical-align top;n,
                  }n,
              n,
                  .dataframe thead th {n,
                      text-align right;n,
                  }n,
              stylen,
              table border=1 class=dataframen,
                theadn,
                  tr style=text-align right;n,
                    ththn,
                    thidsthn,
                    thbdaythn,
                    thenrolldatethn,
                    thexpgradatethn,
                    thRankthn,
                    thMajorthn,
                    thGenderthn,
                    thAthletethn,
                    thHeightthn,
                    thWeightthn,
                    thSmokingthn,
                    thSprintthn,
                    thMileMinDurthn,
                    thEnglishthn,
                    thReadingthn,
                    thMaththn,
                    thWritingthn,
                    thStatethn,
                    thLiveOnCampusthn,
                    thHowCommutethn,
                    thCommuteTimethn,
                    thSleepTimethn,
                    thStudyTimethn,
                  trn,
                theadn,
                tbodyn,
                  trn,
                    th0thn,
                    td43783.0tdn,
                    td1995-03-22tdn,
                    tdNaTtdn,
                    tdNaTtdn,
                    tdNaNtdn,
                    tdNaNtdn,
                    td0.0tdn,
                    td0.0tdn,
                    td72.35tdn,
                    tdNaNtdn,
                    td0.0tdn,
                    td7.978tdn,
                    tdNaNtdn,
                    td88.24tdn,
                    td81.50tdn,
                    td60.02tdn,
                    td81.44tdn,
                    tdIn statetdn,
                    td1.0tdn,
                    tdNaNtdn,
                    tdNaNtdn,
                    td7.0tdn,
                    td1.0tdn,
                  trn,
                  trn,
                    th1thn,
                    td20278.0tdn,
                    td1995-01-01tdn,
                    tdNaTtdn,
                    tdNaTtdn,
                    tdNaNtdn,
                    tdPhilosophytdn,
                    td0.0tdn,
                    td0.0tdn,
                    td70.66tdn,
                    td179.20tdn,
                    td0.0tdn,
                    td8.004tdn,
                    td000621tdn,
                    td89.45tdn,
                    td85.25tdn,
                    td70.19tdn,
                    td73.27tdn,
                    tdNaNtdn,
                    td1.0tdn,
                    tdNaNtdn,
                    tdNaNtdn,
                    td5.0tdn,
                    td2.0tdn,
                  trn,
                  trn,
                    th2thn,
                    td20389.0tdn,
                    td1994-12-31tdn,
                    tdNaTtdn,
                    tdNaTtdn,
                    tdNaNtdn,
                    tdNaNtdn,
                    td0.0tdn,
                    td0.0tdn,
                    td70.68tdn,
                    td198.52tdn,
                    td0.0tdn,
                    tdNaNtdn,
                    td000700tdn,
                    td96.73tdn,
                    td86.88tdn,
                    td71.20tdn,
                    td84.24tdn,
                    tdIn statetdn,
                    tdNaNtdn,
                    tdNaNtdn,
                    tdNaNtdn,
                    td8.0tdn,
                    td7.0tdn,
                  trn,
                  trn,
                    th3thn,
                    td22820.0tdn,
                    td1994-12-01tdn,
                    tdNaTtdn,
                    tdNaTtdn,
                    tdNaNtdn,
                    tdbusiness administrationtdn,
                    td1.0tdn,
                    td0.0tdn,
                    tdNaNtdn,
                    td198.34tdn,
                    tdNaNtdn,
                    td8.473tdn,
                    td001244tdn,
                    td74.06tdn,
                    td88.68tdn,
                    td55.89tdn,
                    td73.16tdn,
                    tdIn statetdn,
                    td1.0tdn,
                    tdNaNtdn,
                    tdNaNtdn,
                    td2.0tdn,
                    td6.0tdn,
                  trn,
                  trn,
                    th4thn,
                    td24559.0tdn,
                    td1994-11-10tdn,
                    tdNaTtdn,
                    tdNaTtdn,
                    tdNaNtdn,
                    tdNaNtdn,
                    td1.0tdn,
                    td1.0tdn,
                    td67.43tdn,
                    td128.17tdn,
                    td2.0tdn,
                    tdNaNtdn,
                    td000625tdn,
                    td82.61tdn,
                    td77.30tdn,
                    td65.52tdn,
                    td80.45tdn,
                    tdOut of statetdn,
                    td1.0tdn,
                    tdNaNtdn,
                    tdNaNtdn,
                    td7.0tdn,
                    td3.0tdn,
                  trn,
                  trn,
                    th...thn,
                    td...tdn,
                    td...tdn,
                    td...tdn,
                    td...tdn,
                    td...tdn,
                    td...tdn,
                    td...tdn,
                    td...tdn,
                    td...tdn,
                    td...tdn,
                    td...tdn,
                    td...tdn,
                    td...tdn,
                    td...tdn,
                    td...tdn,
                    td...tdn,
                    td...tdn,
                    td...tdn,
                    td...tdn,
                    td...tdn,
                    td...tdn,
                    td...tdn,
                    td...tdn,
                  trn,
                  trn,
                    th430thn,
                    td34021.0tdn,
                    td1987-07-18tdn,
                    td2011-08-01tdn,
                    td2017-05-08tdn,
                    td4.0tdn,
                    tdaccountingtdn,
                    td1.0tdn,
                    td0.0tdn,
                    tdNaNtdn,
                    tdNaNtdn,
                    td0.0tdn,
                    tdNaNtdn,
                    td001255tdn,
                    td87.72tdn,
                    td84.99tdn,
                    td65.31tdn,
                    tdNaNtdn,
                    tdIn statetdn,
                    td0.0tdn,
                    td1.0tdn,
                    td18.0tdn,
                    td1.0tdn,
                    td10.0tdn,
                  trn,
                  trn,
                    th431thn,
                    td40697.0tdn,
                    td1987-04-29tdn,
                    td2011-08-01tdn,
                    td2016-05-09tdn,
                    td4.0tdn,
                    tdNaNtdn,
                    td0.0tdn,
                    td0.0tdn,
                    td68.50tdn,
                    td131.92tdn,
                    td0.0tdn,
                    td9.125tdn,
                    td000833tdn,
                    td91.01tdn,
                    td86.87tdn,
                    td70.25tdn,
                    td82.67tdn,
                    tdIn statetdn,
                    td0.0tdn,
                    td3.0tdn,
                    td26.0tdn,
                    td6.0tdn,
                    td15.0tdn,
                  trn,
                  trn,
                    th432thn,
                    td34272.0tdn,
                    tdNaTtdn,
                    td2011-08-01tdn,
                    td2016-05-09tdn,
                    td4.0tdn,
                    tdnursingtdn,
                    td0.0tdn,
                    td1.0tdn,
                    td68.10tdn,
                    td130.07tdn,
                    td0.0tdn,
                    tdNaNtdn,
                    tdNaNtdn,
                    td81.05tdn,
                    td85.76tdn,
                    td58.16tdn,
                    td81.87tdn,
                    tdNaNtdn,
                    td0.0tdn,
                    td3.0tdn,
                    td29.0tdn,
                    td6.0tdn,
                    td10.0tdn,
                  trn,
                  trn,
                    th433thn,
                    td33628.0tdn,
                    tdNaTtdn,
                    td2011-08-01tdn,
                    td2017-05-08tdn,
                    td4.0tdn,
                    tdNursingtdn,
                    td1.0tdn,
                    td1.0tdn,
                    td69.27tdn,
                    td157.26tdn,
                    td2.0tdn,
                    td6.905tdn,
                    td000826tdn,
                    td75.59tdn,
                    td85.97tdn,
                    td66.84tdn,
                    td79.35tdn,
                    tdIn statetdn,
                    td0.0tdn,
                    td1.0tdn,
                    td14.0tdn,
                    td4.0tdn,
                    td10.0tdn,
                  trn,
                  trn,
                    th434thn,
                    td39298.0tdn,
                    tdNaTtdn,
                    td2011-08-01tdn,
                    td2017-05-08tdn,
                    td4.0tdn,
                    tdNaNtdn,
                    td1.0tdn,
                    td1.0tdn,
                    td66.68tdn,
                    td152.33tdn,
                    td1.0tdn,
                    td6.233tdn,
                    td000713tdn,
                    td75.65tdn,
                    td77.24tdn,
                    td60.24tdn,
                    td75.23tdn,
                    tdIn statetdn,
                    td0.0tdn,
                    td3.0tdn,
                    td27.0tdn,
                    td2.0tdn,
                    td10.0tdn,
                  trn,
                tbodyn,
              tablen,
              p435 rows × 23 columnspn,
              divn,
                    button class=colab-df-convert onclick=convertToInteractive('df-54ec02ec-c8ce-4217-9289-da87629f970d')n,
                            title=Convert this dataframe to an interactive table.n,
                            style=displaynone;n,
                      n,
                svg xmlns=httpwww.w3.org2000svg height=24pxviewBox=0 0 24 24n,
                     width=24pxn,
                  path d=M0 0h24v24H0V0z fill=nonen,
                  path d=M18.56 5.44l.94 2.06.94-2.06 2.06-.94-2.06-.94-.94-2.06-.94 2.06-2.06.94zm-11 1L8.5 8.5l.94-2.06 2.06-.94-2.06-.94L8.5 2.5l-.94 2.06-2.06.94zm10 10l.94 2.06.94-2.06 2.06-.94-2.06-.94-.94-2.06-.94 2.06-2.06.94zpath d=M17.41 7.96l-1.37-1.37c-.4-.4-.92-.59-1.43-.59-.52 0-1.04.2-1.43.59L10.3 9.45l-7.72 7.72c-.78.78-.78 2.05 0 2.83L4 21.41c.39.39.9.59 1.41.59.51 0 1.02-.2 1.41-.59l7.78-7.78 2.81-2.81c.8-.78.8-2.07 0-2.86zM5.41 20L4 18.59l7.72-7.72 1.47 1.35L5.41 20zn,
                svgn,
                    buttonn,
                    n,
                stylen,
                  .colab-df-container {n,
                    displayflex;n,
                    flex-wrapwrap;n,
                    gap 12px;n,
                  }n,
              n,
                  .colab-df-convert {n,
                    background-color #E8F0FE;n,
                    border none;n,
                    border-radius 50%;n,
                    cursor pointer;n,
                    display none;n,
                    fill #1967D2;n,
                    height 32px;n,
                    padding 0 0 0 0;n,
                    width 32px;n,
                  }n,
              n,
                  .colab-df-converthover {n,
                    background-color #E2EBFA;n,
                    box-shadow 0px 1px 2px rgba(60, 64, 67, 0.3), 0px 1px 3px 1px rgba(60, 64, 67, 0.15);n,
                    fill #174EA6;n,
                  }n,
              n,
                  [theme=dark] .colab-df-convert {n,
                    background-color #3B4455;n,
                    fill #D2E3FC;n,
                  }n,
              n,
                  [theme=dark] .colab-df-converthover {n,
                    background-color #434B5C;n,
                    box-shadow 0px 1px 3px 1px rgba(0, 0, 0, 0.15);n,
                    filter drop-shadow(0px 1px 2px rgba(0, 0, 0, 0.3));n,
                    fill #FFFFFF;n,
                  }n,
                stylen,
              n,
                    scriptn,
                      const buttonEl =n,
                        document.querySelector('#df-54ec02ec-c8ce-4217-9289-da87629f970d button.colab-df-convert');n,
                      buttonEl.style.display =n,
                        google.colab.kernel.accessAllowed  'block'  'none';n,
              n,
                      async function convertToInteractive(key) {n,
                        const element = document.querySelector('#df-54ec02ec-c8ce-4217-9289-da87629f970d');n,
                        const dataTable =n,
                          await google.colab.kernel.invokeFunction('convertToInteractive',n,
                                                                   [key], {});n,
                        if (!dataTable) return;n,
              n,
                        const docLinkHtml = 'Like what you see Visit the ' +n,
                          'a target=_blank href=httpscolab.research.google.comnotebooksdata_table.ipynbdata table notebooka'n,
                          + ' to learn more about interactive tables.';n,
                        element.innerHTML = '';n,
                        dataTable['output_type'] = 'display_data';n,
                        await google.colab.output.renderOutput(dataTable, element);n,
                        const docLink = document.createElement('div');n,
                        docLink.innerHTML = docLinkHtml;n,
                        element.appendChild(docLink);n,
                      }n,
                    scriptn,
                  divn,
                divn,
                
            ],
            textplain [
                       ids       bday enrolldate  ... CommuteTime  SleepTime StudyTimen,
              0    43783.0 1995-03-22        NaT  ...         NaN        7.0       1.0n,
              1    20278.0 1995-01-01        NaT  ...         NaN        5.0       2.0n,
              2    20389.0 1994-12-31        NaT  ...         NaN        8.0       7.0n,
              3    22820.0 1994-12-01        NaT  ...         NaN        2.0       6.0n,
              4    24559.0 1994-11-10        NaT  ...         NaN        7.0       3.0n,
              ..       ...        ...        ...  ...         ...        ...       ...n,
              430  34021.0 1987-07-18 2011-08-01  ...        18.0        1.0      10.0n,
              431  40697.0 1987-04-29 2011-08-01  ...        26.0        6.0      15.0n,
              432  34272.0        NaT 2011-08-01  ...        29.0        6.0      10.0n,
              433  33628.0        NaT 2011-08-01  ...        14.0        4.0      10.0n,
              434  39298.0        NaT 2011-08-01  ...        27.0        2.0      10.0n,
              n,
              [435 rows x 23 columns]
            ]
          },
          metadata {},
          execution_count 24
        }
      ]
    },
    {
      cell_type code,
      source [
        # H0  D(Eng-Math) = 0n,
        # Ha  D(Eng-Math) != 0
      ],
      metadata {
        id CnRBtkys48ze
      },
      execution_count 25,
      outputs []
    },
    {
      cell_type code,
      source [
        df.info()
      ],
      metadata {
        colab {
          base_uri httpslocalhost8080
        },
        id UBFgq1AX4-dG,
        outputId cad72541-2511-451f-ad57-191048766492
      },
      execution_count 26,
      outputs [
        {
          output_type stream,
          name stdout,
          text [
            class 'pandas.core.frame.DataFrame'n,
            RangeIndex 435 entries, 0 to 434n,
            Data columns (total 23 columns)n,
             #   Column        Non-Null Count  Dtype         n,
            ---  ------        --------------  -----         n,
             0   ids           435 non-null    float64       n,
             1   bday          427 non-null    datetime64[ns]n,
             2   enrolldate    406 non-null    datetime64[ns]n,
             3   expgradate    406 non-null    datetime64[ns]n,
             4   Rank          406 non-null    float64       n,
             5   Major         276 non-null    object        n,
             6   Gender        426 non-null    float64       n,
             7   Athlete       435 non-null    float64       n,
             8   Height        408 non-null    float64       n,
             9   Weight        376 non-null    float64       n,
             10  Smoking       411 non-null    float64       n,
             11  Sprint        374 non-null    float64       n,
             12  MileMinDur    392 non-null    object        n,
             13  English       409 non-null    float64       n,
             14  Reading       425 non-null    float64       n,
             15  Math          422 non-null    float64       n,
             16  Writing       404 non-null    float64       n,
             17  State         408 non-null    object        n,
             18  LiveOnCampus  414 non-null    float64       n,
             19  HowCommute    247 non-null    float64       n,
             20  CommuteTime   247 non-null    float64       n,
             21  SleepTime     403 non-null    float64       n,
             22  StudyTime     393 non-null    float64       n,
            dtypes datetime64[ns](3), float64(17), object(3)n,
            memory usage 78.3+ KBn
          ]
        }
      ]
    },
    {
      cell_type code,
      source [
        relTest = stats.ttest_rel(df['English'], df['Math'], nan_policy='omit')n,
        relTest
      ],
      metadata {
        colab {
          base_uri httpslocalhost8080
        },
        id OppTXRZp4_p7,
        outputId 2683e1ff-f06b-4484-c66f-d30113e6f08c
      },
      execution_count 27,
      outputs [
        {
          output_type execute_result,
          data {
            textplain [
              Ttest_relResult(statistic=36.31256898171986, pvalue=3.071098719220689e-128)
            ]
          },
          metadata {},
          execution_count 27
        }
      ]
    },
    {
      cell_type code,
      source [
        # Decisionn,
        alpha = 0.05n,
        n,
        if relTest.pvalue  alphan,
            print(Reject the Null)n,
        elsen,
            print(Fail to reject)
      ],
      metadata {
        colab {
          base_uri httpslocalhost8080
        },
        id xqBRb5SA5BTN,
        outputId c089186f-71df-46ac-99b1-6b46079d7e4d
      },
      execution_count 28,
      outputs [
        {
          output_type stream,
          name stdout,
          text [
            Reject the Nulln
          ]
        }
      ]
    },
    {
      cell_type code,
      source [
        
      ],
      metadata {
        id zLOuUOdr5Ck4
      },
      execution_count null,
      outputs []
    }
  ]
}