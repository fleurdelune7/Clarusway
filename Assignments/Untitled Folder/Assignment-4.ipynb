{
 "cells": [
  {
   "cell_type": "code",
   "execution_count": 1,
   "id": "0ff47a77",
   "metadata": {},
   "outputs": [],
   "source": [
    "import numpy as np\n",
    "import scipy.stats as stats\n",
    "import matplotlib.pyplot as plt"
   ]
  },
  {
   "cell_type": "markdown",
   "id": "f93117cb",
   "metadata": {},
   "source": [
    "1. A salesperson has found that the probability of a sale on a single contact is approximately .3. If the salesperson contacts 10 prospects, what is the approximate probability of making at least one sale?"
   ]
  },
  {
   "cell_type": "code",
   "execution_count": 2,
   "id": "5f585850",
   "metadata": {},
   "outputs": [
    {
     "data": {
      "text/plain": [
       "0.9717524751"
      ]
     },
     "execution_count": 2,
     "metadata": {},
     "output_type": "execute_result"
    }
   ],
   "source": [
    "p = 0.3\n",
    "n = 10\n",
    "sale = 1 - stats.binom.cdf(0, n, p)\n",
    "sale"
   ]
  },
  {
   "cell_type": "markdown",
   "id": "2f5aa020",
   "metadata": {},
   "source": [
    "2.\tTen coins are tossed simultaneously. Find the probability of getting\n",
    "\n",
    "(i) at least seven heads"
   ]
  },
  {
   "cell_type": "code",
   "execution_count": 3,
   "id": "5142e777",
   "metadata": {},
   "outputs": [
    {
     "data": {
      "text/plain": [
       "0.171875"
      ]
     },
     "execution_count": 3,
     "metadata": {},
     "output_type": "execute_result"
    }
   ],
   "source": [
    "p = 0.5\n",
    "n = 10\n",
    "b = stats.binom(n, p)\n",
    "prob = 1 - b.cdf(6)\n",
    "prob"
   ]
  },
  {
   "cell_type": "markdown",
   "id": "7c6fc464",
   "metadata": {},
   "source": [
    "(ii) exactly seven heads"
   ]
  },
  {
   "cell_type": "code",
   "execution_count": 4,
   "id": "003b3648",
   "metadata": {},
   "outputs": [
    {
     "data": {
      "text/plain": [
       "0.11718749999999999"
      ]
     },
     "execution_count": 4,
     "metadata": {},
     "output_type": "execute_result"
    }
   ],
   "source": [
    "p = 0.5\n",
    "n = 10\n",
    "c = stats.binom(n, p)\n",
    "prob = c.pmf(7)\n",
    "prob"
   ]
  },
  {
   "cell_type": "markdown",
   "id": "c371c1d6",
   "metadata": {},
   "source": [
    "(iii) at most seven heads"
   ]
  },
  {
   "cell_type": "code",
   "execution_count": 5,
   "id": "b27bfaa8",
   "metadata": {},
   "outputs": [
    {
     "data": {
      "text/plain": [
       "0.9453125"
      ]
     },
     "execution_count": 5,
     "metadata": {},
     "output_type": "execute_result"
    }
   ],
   "source": [
    "p = 0.5\n",
    "n = 10\n",
    "c = stats.binom(n, p)\n",
    "prob = c.cdf(7)\n",
    "prob"
   ]
  },
  {
   "cell_type": "markdown",
   "id": "cd13bf40",
   "metadata": {},
   "source": [
    "3- The cycle time for trucks hauling concrete to a highway construction site is uniformly distributed over the interval 50 to 70 minutes. What is the probability that the cycle time exceeds 65 minutes  if it is known that the cycle time exceeds 55 minutes?"
   ]
  },
  {
   "cell_type": "code",
   "execution_count": 6,
   "id": "b5374326",
   "metadata": {},
   "outputs": [
    {
     "data": {
      "text/plain": [
       "0.3333333333333333"
      ]
     },
     "execution_count": 6,
     "metadata": {},
     "output_type": "execute_result"
    }
   ],
   "source": [
    "d =stats.uniform(50, 20)\n",
    "prob = (1- d.cdf(65))/(1-d.cdf(55))\n",
    "prob"
   ]
  },
  {
   "cell_type": "markdown",
   "id": "106def2f",
   "metadata": {},
   "source": [
    "4. The width of bolts of fabric is normally distributed with mean 950 mm (millimeters) and standard deviation 10 mm.\n",
    "\n",
    "a) What is the probability that a randomly chosen bolt has a width of between 947 and 958mm?\n"
   ]
  },
  {
   "cell_type": "code",
   "execution_count": 7,
   "id": "93c21526",
   "metadata": {},
   "outputs": [
    {
     "data": {
      "text/plain": [
       "0.406056023605556"
      ]
     },
     "execution_count": 7,
     "metadata": {},
     "output_type": "execute_result"
    }
   ],
   "source": [
    "mean = 950\n",
    "std = 10\n",
    "e = stats.norm(950, 10)\n",
    "prob = e.cdf(958) - e.cdf(947)\n",
    "prob"
   ]
  },
  {
   "cell_type": "markdown",
   "id": "e06ff8b9",
   "metadata": {},
   "source": [
    "b)\tWhat is the appropriate value for C such that a randomly chosen bolt has a width less than C with probability .8531? (Wackerly, Ex.4.73)"
   ]
  },
  {
   "cell_type": "code",
   "execution_count": 8,
   "id": "da22f190",
   "metadata": {},
   "outputs": [
    {
     "data": {
      "text/plain": [
       "960.4982190962642"
      ]
     },
     "execution_count": 8,
     "metadata": {},
     "output_type": "execute_result"
    }
   ],
   "source": [
    "val = e.ppf(0.8531)\n",
    "val"
   ]
  },
  {
   "cell_type": "markdown",
   "id": "dd15874a",
   "metadata": {},
   "source": [
    "5. Suppose scores on exams in statistics are normally distributed with an unknown population mean and a population standard deviation of 3 points. A random sample of 36 scores is taken and gives a sample mean (sample mean score) of 68. Find a confidence interval estimate for the population mean exam score (the mean score on all exams). Find a 90% confidence interval for the true (population) mean of statistics exam scores.\n"
   ]
  },
  {
   "cell_type": "code",
   "execution_count": 9,
   "id": "052bcee4",
   "metadata": {},
   "outputs": [
    {
     "data": {
      "text/plain": [
       "(67.17757318652427, 68.82242681347573)"
      ]
     },
     "execution_count": 9,
     "metadata": {},
     "output_type": "execute_result"
    }
   ],
   "source": [
    "f = stats.norm.interval(0.9, 68, 3/36**0.5)\n",
    "f"
   ]
  },
  {
   "cell_type": "markdown",
   "id": "897c2ae9",
   "metadata": {},
   "source": [
    "6. What is the normal body temperature for healthy humans? A random sample of 130 healthy human body temperatures provided by Allen Shoemaker yielded 98.25 degrees and standard deviation 0.73 degrees.\n",
    "\n",
    "a)\tGive a 99% confidence interval for the average body temperature of healthy people.\n"
   ]
  },
  {
   "cell_type": "code",
   "execution_count": 10,
   "id": "390a4365",
   "metadata": {},
   "outputs": [
    {
     "data": {
      "text/plain": [
       "(98.08508192246582, 98.41491807753418)"
      ]
     },
     "execution_count": 10,
     "metadata": {},
     "output_type": "execute_result"
    }
   ],
   "source": [
    "g = stats.norm.interval(0.99, 98.25, 0.73/np.sqrt(130))\n",
    "g"
   ]
  },
  {
   "cell_type": "markdown",
   "id": "6fead903",
   "metadata": {},
   "source": [
    "b) Does the confidence interval obtained in part (a) contain the value 98.6 degrees, the accepted average temperature cited by physicians and others? What conclusions can you draw? (Wackerly, Ex.8.60)"
   ]
  },
  {
   "cell_type": "code",
   "execution_count": 11,
   "id": "5da2309f",
   "metadata": {},
   "outputs": [],
   "source": [
    "H0 = 98.6\n",
    "#We reject the H0. Because it is not between g[0] and g[1]"
   ]
  }
 ],
 "metadata": {
  "kernelspec": {
   "display_name": "Python 3 (ipykernel)",
   "language": "python",
   "name": "python3"
  },
  "language_info": {
   "codemirror_mode": {
    "name": "ipython",
    "version": 3
   },
   "file_extension": ".py",
   "mimetype": "text/x-python",
   "name": "python",
   "nbconvert_exporter": "python",
   "pygments_lexer": "ipython3",
   "version": "3.9.7"
  }
 },
 "nbformat": 4,
 "nbformat_minor": 5
}
